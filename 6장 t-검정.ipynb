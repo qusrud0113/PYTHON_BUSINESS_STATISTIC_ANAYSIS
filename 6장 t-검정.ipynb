{
 "cells": [
  {
   "cell_type": "markdown",
   "metadata": {
    "id": "LJpo5Dw1pFfc"
   },
   "source": [
    "# 6장. t-검정\n"
   ]
  },
  {
   "cell_type": "markdown",
   "metadata": {
    "id": "rJgYAgViqCtT"
   },
   "source": [
    "#### 6.1 t-검정 기초\n",
    "\n",
    "1) 평균 비교 분석 유형\n",
    "\n",
    "t-검정: 평균을 비교하는 분석 기법 (모집단의 분산을 모를 때)\n",
    "\n",
    "z-검정: 평균을 비교하는 분석 기법 (모집단의 분산알 때)\n",
    "\n",
    "||t-검정|z-검정|분산분석|\n",
    "|---|-----|-----|-----|\n",
    "|집단의 수|2개 이하|2개 이하|3개 이상|\n",
    "|모집단의 분산|모름|알고 있음|모름|\n",
    "|표본의수|상관 없음|30개 이상|상관 없음|\n",
    "|등분산성|고려함|고려하지 않음|고려함|\n",
    "<표: 평균을 비교하는 분석 기법 차이점>\n",
    "\n",
    "2) t-검정의 종류\n",
    "\n",
    "|                 t-검정의 종류                 |                                   분석 목적                                   |\n",
    "|:---------------------------------------------:|-----------------------------------------------------------------------------|\n",
    "| 일표본   t-검정      (one sample t-test)      | 특정 수치로 알려진 모집단의 평균과 분산 비교                                  |\n",
    "| 독립표본   t-검정      (two sample t-test)    | 독립된 두 표본 집단의 평균을 비교                                             |\n",
    "| 쌍체표본   t-검정      (paired sample t-test) | 실험 전 집단과 실험 후 집단과 같이 쌍체로 이루어진 두 표본 집단의 평균을 비교 |\n"
   ]
  },
  {
   "cell_type": "markdown",
   "metadata": {
    "id": "EiEIcddqp-Y8"
   },
   "source": [
    "####6.2 일표본 t-검정\n",
    "(1) 개념\n",
    "<br/>\n",
    "일표본 t-검정: 단일 표본의 수치형 변수의 평균 값이 기존에 사용하던 특정 값(모집단의 평균)과 실제로 일치하는지 판단할 수 있는 통계분석 기법\n",
    "<br/>\n",
    "즉, 모집단(실제 집단)의 평균이 $\\mu$일 때, 모집단에서 추출한 일부집단(표본집단)의 평균 $\\bar{\\mu}$이 서로 일치하는지 확인하는 통계분석 기법이다.\n",
    "<br/>\n",
    "<br/>\n",
    "1) 일표본 t-검정 값 산출 방식\n",
    "<br/>\n",
    "통상적으로 모집단의 표준편차($\\sigma$)를 모르기 때문에 추정 표준편차($s$)를 사용하여 t-검정을 한다. 일표본 t-검정에서 t값은 모집단 평균과 표본집단 평균 차와 표준오차의 비율이다. \n",
    "* 모분산을 아는 경우(z-검정)\n",
    "\\begin{align}\n",
    "    z = \\dfrac{\\bar{X} - \\mu}{\\dfrac{\\sigma}{\\sqrt{n}}}, \\qquad \\mu \\in [\\bar{X} - Z_{\\frac{\\alpha}{2}}\\cdot\\dfrac{\\sigma}{\\sqrt{n}}, \\bar{X} + Z_{\\frac{\\alpha}{2}}\\cdot\\dfrac{\\sigma}{\\sqrt{n}}]\n",
    "\\end{align}\n",
    "* 모분산을 모르는 경우(t-검정)\n",
    "\\begin{align}\n",
    "    t = \\dfrac{\\bar{X} - \\mu}{\\dfrac{s}{\\sqrt{n}}}, \\qquad \\mu \\in [\\bar{X} - t_{(\\frac{\\alpha}{2},n-1)}\\cdot\\dfrac{s}{\\sqrt{n}}, \\bar{X} + t_{(\\frac{\\alpha}{2}, n-1)}\\cdot\\dfrac{s}{\\sqrt{n}}] \n",
    "\\end{align}\n",
    "이때, 일표본 t-검정의 경우 자유도가 n-1임.\n",
    "<br/>\n",
    "<br/>\n",
    "일표본 t-검정의 귀무가설이 참이기 위해서는\n",
    "\\begin{align}\n",
    "    z \\leq z_{\\alpha} \\quad &or\\quad t \\leq t_{(\\alpha, n-1)} \\quad \\text{(단측)}\\\\\n",
    "    z \\geq -z_{\\alpha} \\quad &or\\quad t \\geq -t_{(\\alpha, n-1)} \\quad \\text{(단측)}\\\\\n",
    "    |z| \\leq Z_{\\alpha/2} \\quad &or\\quad |t| \\leq t_{(\\frac{\\alpha}{2}, n-1)} \\quad \\text{(양측)}\n",
    "\\end{align}\n",
    "라는 조건이 필요하다. 다음의 예시는 해당 귀무가설의 예시이다. "
   ]
  },
  {
   "cell_type": "markdown",
   "metadata": {
    "id": "vPY97LzD3iWT"
   },
   "source": [
    "(2) 분석 및 해석\n",
    "A쇼핑의 VIP 고객들의 평균 구매액은 약 700만원 이었으며, 이에 A쇼핑은 올해 VIP 그룹 고객들의 평균 구매액 목표치를 10% 상향한 770만원으로 결정했다.\n",
    "\n",
    "그렇다면 올해 VIP고객들의 평균 구매액 목표치인 770만원을 달성하였는지 확인하기 위해 일표본 t-검정을 사용하자.\n",
    "<br/>\n",
    "* 가설\n",
    "\\begin{align}\n",
    "    H_{0}(\\text{귀무가설}) &= \\text{A 쇼핑 VIP 고객들의 총 매출액 평균은 7,700,000원이다.}\\\\\n",
    "    H_{1}(\\text{연구가설}) &= \\text{A 쇼핑 VIP 고객들의 총 매출액 평균은 7,700,000원이 아니다.} \n",
    "\\end{align}\n"
   ]
  },
  {
   "cell_type": "code",
   "execution_count": 2,
   "metadata": {
    "colab": {
     "base_uri": "https://localhost:8080/"
    },
    "executionInfo": {
     "elapsed": 22236,
     "status": "ok",
     "timestamp": 1678285210571,
     "user": {
      "displayName": "GyeongJun Byeon",
      "userId": "15563492176804444918"
     },
     "user_tz": -540
    },
    "id": "bi2bblicpE3P",
    "outputId": "a2d13d85-a834-4d2e-cf03-78e4eca9d302"
   },
   "outputs": [
    {
     "name": "stdout",
     "output_type": "stream",
     "text": [
      "Mounted at /content/drive\n"
     ]
    }
   ],
   "source": [
    "import pandas as pd\n",
    "from google.colab import drive\n",
    "drive.mount('/content/drive')"
   ]
  },
  {
   "cell_type": "code",
   "execution_count": 3,
   "metadata": {
    "colab": {
     "base_uri": "https://localhost:8080/",
     "height": 297
    },
    "executionInfo": {
     "elapsed": 730,
     "status": "ok",
     "timestamp": 1678285211283,
     "user": {
      "displayName": "GyeongJun Byeon",
      "userId": "15563492176804444918"
     },
     "user_tz": -540
    },
    "id": "BI709SpopgZO",
    "outputId": "19c4c130-9fdb-4ef9-8548-7406e887fef0"
   },
   "outputs": [
    {
     "data": {
      "text/html": [
       "\n",
       "  <div id=\"df-8dd6a959-e254-4bd0-b19a-aeecce41452c\">\n",
       "    <div class=\"colab-df-container\">\n",
       "      <div>\n",
       "<style scoped>\n",
       "    .dataframe tbody tr th:only-of-type {\n",
       "        vertical-align: middle;\n",
       "    }\n",
       "\n",
       "    .dataframe tbody tr th {\n",
       "        vertical-align: top;\n",
       "    }\n",
       "\n",
       "    .dataframe thead th {\n",
       "        text-align: right;\n",
       "    }\n",
       "</style>\n",
       "<table border=\"1\" class=\"dataframe\">\n",
       "  <thead>\n",
       "    <tr style=\"text-align: right;\">\n",
       "      <th></th>\n",
       "      <th>고객ID</th>\n",
       "      <th>이탈여부</th>\n",
       "      <th>총_매출액</th>\n",
       "      <th>방문빈도</th>\n",
       "      <th>1회_평균매출액</th>\n",
       "      <th>할인권_사용 횟수</th>\n",
       "      <th>총_할인_금액</th>\n",
       "      <th>고객등급</th>\n",
       "      <th>구매유형</th>\n",
       "      <th>클레임접수여부</th>\n",
       "      <th>...</th>\n",
       "      <th>매장_청결성</th>\n",
       "      <th>공간_편의성</th>\n",
       "      <th>시야_확보성</th>\n",
       "      <th>음향_적절성</th>\n",
       "      <th>안내_표지판_설명</th>\n",
       "      <th>친절성</th>\n",
       "      <th>신속성</th>\n",
       "      <th>책임성</th>\n",
       "      <th>정확성</th>\n",
       "      <th>전문성</th>\n",
       "    </tr>\n",
       "  </thead>\n",
       "  <tbody>\n",
       "    <tr>\n",
       "      <th>0</th>\n",
       "      <td>1</td>\n",
       "      <td>0</td>\n",
       "      <td>4007080</td>\n",
       "      <td>17</td>\n",
       "      <td>235711</td>\n",
       "      <td>1</td>\n",
       "      <td>5445</td>\n",
       "      <td>1</td>\n",
       "      <td>4</td>\n",
       "      <td>0</td>\n",
       "      <td>...</td>\n",
       "      <td>6</td>\n",
       "      <td>7</td>\n",
       "      <td>6</td>\n",
       "      <td>6</td>\n",
       "      <td>6</td>\n",
       "      <td>6</td>\n",
       "      <td>6</td>\n",
       "      <td>6</td>\n",
       "      <td>6</td>\n",
       "      <td>6</td>\n",
       "    </tr>\n",
       "    <tr>\n",
       "      <th>1</th>\n",
       "      <td>2</td>\n",
       "      <td>1</td>\n",
       "      <td>3168400</td>\n",
       "      <td>14</td>\n",
       "      <td>226314</td>\n",
       "      <td>22</td>\n",
       "      <td>350995</td>\n",
       "      <td>2</td>\n",
       "      <td>4</td>\n",
       "      <td>0</td>\n",
       "      <td>...</td>\n",
       "      <td>7</td>\n",
       "      <td>7</td>\n",
       "      <td>6</td>\n",
       "      <td>6</td>\n",
       "      <td>6</td>\n",
       "      <td>5</td>\n",
       "      <td>3</td>\n",
       "      <td>6</td>\n",
       "      <td>6</td>\n",
       "      <td>6</td>\n",
       "    </tr>\n",
       "    <tr>\n",
       "      <th>2</th>\n",
       "      <td>3</td>\n",
       "      <td>0</td>\n",
       "      <td>2680780</td>\n",
       "      <td>18</td>\n",
       "      <td>148932</td>\n",
       "      <td>6</td>\n",
       "      <td>186045</td>\n",
       "      <td>1</td>\n",
       "      <td>4</td>\n",
       "      <td>1</td>\n",
       "      <td>...</td>\n",
       "      <td>6</td>\n",
       "      <td>6</td>\n",
       "      <td>6</td>\n",
       "      <td>6</td>\n",
       "      <td>6</td>\n",
       "      <td>7</td>\n",
       "      <td>7</td>\n",
       "      <td>6</td>\n",
       "      <td>6</td>\n",
       "      <td>7</td>\n",
       "    </tr>\n",
       "    <tr>\n",
       "      <th>3</th>\n",
       "      <td>4</td>\n",
       "      <td>0</td>\n",
       "      <td>5946600</td>\n",
       "      <td>17</td>\n",
       "      <td>349800</td>\n",
       "      <td>1</td>\n",
       "      <td>5195</td>\n",
       "      <td>1</td>\n",
       "      <td>4</td>\n",
       "      <td>1</td>\n",
       "      <td>...</td>\n",
       "      <td>6</td>\n",
       "      <td>6</td>\n",
       "      <td>5</td>\n",
       "      <td>6</td>\n",
       "      <td>6</td>\n",
       "      <td>6</td>\n",
       "      <td>6</td>\n",
       "      <td>6</td>\n",
       "      <td>5</td>\n",
       "      <td>6</td>\n",
       "    </tr>\n",
       "    <tr>\n",
       "      <th>4</th>\n",
       "      <td>5</td>\n",
       "      <td>0</td>\n",
       "      <td>13745950</td>\n",
       "      <td>73</td>\n",
       "      <td>188301</td>\n",
       "      <td>9</td>\n",
       "      <td>246350</td>\n",
       "      <td>1</td>\n",
       "      <td>2</td>\n",
       "      <td>0</td>\n",
       "      <td>...</td>\n",
       "      <td>5</td>\n",
       "      <td>6</td>\n",
       "      <td>6</td>\n",
       "      <td>6</td>\n",
       "      <td>5</td>\n",
       "      <td>5</td>\n",
       "      <td>6</td>\n",
       "      <td>6</td>\n",
       "      <td>5</td>\n",
       "      <td>6</td>\n",
       "    </tr>\n",
       "  </tbody>\n",
       "</table>\n",
       "<p>5 rows × 39 columns</p>\n",
       "</div>\n",
       "      <button class=\"colab-df-convert\" onclick=\"convertToInteractive('df-8dd6a959-e254-4bd0-b19a-aeecce41452c')\"\n",
       "              title=\"Convert this dataframe to an interactive table.\"\n",
       "              style=\"display:none;\">\n",
       "        \n",
       "  <svg xmlns=\"http://www.w3.org/2000/svg\" height=\"24px\"viewBox=\"0 0 24 24\"\n",
       "       width=\"24px\">\n",
       "    <path d=\"M0 0h24v24H0V0z\" fill=\"none\"/>\n",
       "    <path d=\"M18.56 5.44l.94 2.06.94-2.06 2.06-.94-2.06-.94-.94-2.06-.94 2.06-2.06.94zm-11 1L8.5 8.5l.94-2.06 2.06-.94-2.06-.94L8.5 2.5l-.94 2.06-2.06.94zm10 10l.94 2.06.94-2.06 2.06-.94-2.06-.94-.94-2.06-.94 2.06-2.06.94z\"/><path d=\"M17.41 7.96l-1.37-1.37c-.4-.4-.92-.59-1.43-.59-.52 0-1.04.2-1.43.59L10.3 9.45l-7.72 7.72c-.78.78-.78 2.05 0 2.83L4 21.41c.39.39.9.59 1.41.59.51 0 1.02-.2 1.41-.59l7.78-7.78 2.81-2.81c.8-.78.8-2.07 0-2.86zM5.41 20L4 18.59l7.72-7.72 1.47 1.35L5.41 20z\"/>\n",
       "  </svg>\n",
       "      </button>\n",
       "      \n",
       "  <style>\n",
       "    .colab-df-container {\n",
       "      display:flex;\n",
       "      flex-wrap:wrap;\n",
       "      gap: 12px;\n",
       "    }\n",
       "\n",
       "    .colab-df-convert {\n",
       "      background-color: #E8F0FE;\n",
       "      border: none;\n",
       "      border-radius: 50%;\n",
       "      cursor: pointer;\n",
       "      display: none;\n",
       "      fill: #1967D2;\n",
       "      height: 32px;\n",
       "      padding: 0 0 0 0;\n",
       "      width: 32px;\n",
       "    }\n",
       "\n",
       "    .colab-df-convert:hover {\n",
       "      background-color: #E2EBFA;\n",
       "      box-shadow: 0px 1px 2px rgba(60, 64, 67, 0.3), 0px 1px 3px 1px rgba(60, 64, 67, 0.15);\n",
       "      fill: #174EA6;\n",
       "    }\n",
       "\n",
       "    [theme=dark] .colab-df-convert {\n",
       "      background-color: #3B4455;\n",
       "      fill: #D2E3FC;\n",
       "    }\n",
       "\n",
       "    [theme=dark] .colab-df-convert:hover {\n",
       "      background-color: #434B5C;\n",
       "      box-shadow: 0px 1px 3px 1px rgba(0, 0, 0, 0.15);\n",
       "      filter: drop-shadow(0px 1px 2px rgba(0, 0, 0, 0.3));\n",
       "      fill: #FFFFFF;\n",
       "    }\n",
       "  </style>\n",
       "\n",
       "      <script>\n",
       "        const buttonEl =\n",
       "          document.querySelector('#df-8dd6a959-e254-4bd0-b19a-aeecce41452c button.colab-df-convert');\n",
       "        buttonEl.style.display =\n",
       "          google.colab.kernel.accessAllowed ? 'block' : 'none';\n",
       "\n",
       "        async function convertToInteractive(key) {\n",
       "          const element = document.querySelector('#df-8dd6a959-e254-4bd0-b19a-aeecce41452c');\n",
       "          const dataTable =\n",
       "            await google.colab.kernel.invokeFunction('convertToInteractive',\n",
       "                                                     [key], {});\n",
       "          if (!dataTable) return;\n",
       "\n",
       "          const docLinkHtml = 'Like what you see? Visit the ' +\n",
       "            '<a target=\"_blank\" href=https://colab.research.google.com/notebooks/data_table.ipynb>data table notebook</a>'\n",
       "            + ' to learn more about interactive tables.';\n",
       "          element.innerHTML = '';\n",
       "          dataTable['output_type'] = 'display_data';\n",
       "          await google.colab.output.renderOutput(dataTable, element);\n",
       "          const docLink = document.createElement('div');\n",
       "          docLink.innerHTML = docLinkHtml;\n",
       "          element.appendChild(docLink);\n",
       "        }\n",
       "      </script>\n",
       "    </div>\n",
       "  </div>\n",
       "  "
      ],
      "text/plain": [
       "   고객ID  이탈여부     총_매출액  방문빈도  1회_평균매출액  할인권_사용 횟수  총_할인_금액  고객등급  구매유형  \\\n",
       "0     1     0   4007080    17    235711          1     5445     1     4   \n",
       "1     2     1   3168400    14    226314         22   350995     2     4   \n",
       "2     3     0   2680780    18    148932          6   186045     1     4   \n",
       "3     4     0   5946600    17    349800          1     5195     1     4   \n",
       "4     5     0  13745950    73    188301          9   246350     1     2   \n",
       "\n",
       "   클레임접수여부  ...  매장_청결성  공간_편의성  시야_확보성  음향_적절성  안내_표지판_설명  친절성  신속성  책임성  \\\n",
       "0        0  ...       6       7       6       6          6    6    6    6   \n",
       "1        0  ...       7       7       6       6          6    5    3    6   \n",
       "2        1  ...       6       6       6       6          6    7    7    6   \n",
       "3        1  ...       6       6       5       6          6    6    6    6   \n",
       "4        0  ...       5       6       6       6          5    5    6    6   \n",
       "\n",
       "   정확성  전문성  \n",
       "0    6    6  \n",
       "1    6    6  \n",
       "2    6    7  \n",
       "3    5    6  \n",
       "4    5    6  \n",
       "\n",
       "[5 rows x 39 columns]"
      ]
     },
     "execution_count": 3,
     "metadata": {},
     "output_type": "execute_result"
    }
   ],
   "source": [
    "file_dir = '/content/drive/MyDrive/pythondata/데이터'\n",
    "df = pd.read_csv(file_dir + '/Ashopping.csv', encoding = 'CP949')\n",
    "df.head()"
   ]
  },
  {
   "cell_type": "code",
   "execution_count": 4,
   "metadata": {
    "colab": {
     "base_uri": "https://localhost:8080/"
    },
    "executionInfo": {
     "elapsed": 348,
     "status": "ok",
     "timestamp": 1678285211618,
     "user": {
      "displayName": "GyeongJun Byeon",
      "userId": "15563492176804444918"
     },
     "user_tz": -540
    },
    "id": "yd1Y3QFp5ZBI",
    "outputId": "3c3028ff-fa0f-415d-cdf6-532d881bf52e"
   },
   "outputs": [
    {
     "name": "stdout",
     "output_type": "stream",
     "text": [
      "총매출액 평균: 7068689.76\n",
      "t-value: -2.8657\n",
      "유의확률:0.004\n",
      "Critical t_score: 1.6464\n",
      "Confidence interval:  (7057220.490331663, 7080159.029668337)\n"
     ]
    }
   ],
   "source": [
    "from scipy import stats\n",
    "\n",
    "print('총매출액 평균:',df.총_매출액.mean())\n",
    "# 일표본 t-test 불러오기\n",
    "print('t-value:', round(stats.ttest_1samp(df['총_매출액'],7700000).statistic,4))\n",
    "print('유의확률:{:.3f}'.format(stats.ttest_1samp(df['총_매출액'],7700000).pvalue))\n",
    "\n",
    "import numpy as np\n",
    "\n",
    "n = len(df['총_매출액'])\n",
    "mean = df.총_매출액.mean()\n",
    "std = stats.sem(df['총_매출액'])\n",
    "# t-score 찾기(inverse of cdf - percentiles)\n",
    "t_score = stats.t.ppf((1+0.90)/2, n-1)\n",
    "interval = (mean - (std/np.sqrt(n))*t_score, mean + (std/np.sqrt(n))*t_score)\n",
    "\n",
    "print('Critical t_score: {:.4f}'.format(t_score))\n",
    "print('Confidence interval: ',interval)"
   ]
  },
  {
   "cell_type": "code",
   "execution_count": 5,
   "metadata": {
    "colab": {
     "base_uri": "https://localhost:8080/",
     "height": 404
    },
    "executionInfo": {
     "elapsed": 568,
     "status": "ok",
     "timestamp": 1678285212498,
     "user": {
      "displayName": "GyeongJun Byeon",
      "userId": "15563492176804444918"
     },
     "user_tz": -540
    },
    "id": "F0PqZOu9fQpX",
    "outputId": "a50206d1-8530-48b5-d10f-c1373f242b04"
   },
   "outputs": [
    {
     "data": {
      "image/png": "[encoded data removed]",
      "text/plain": [
       "<Figure size 720x432 with 1 Axes>"
      ]
     },
     "metadata": {
      "needs_background": "light"
     },
     "output_type": "display_data"
    }
   ],
   "source": [
    "import math\n",
    "import matplotlib.pyplot as plt\n",
    "import scipy\n",
    "\n",
    "#pdf domain\n",
    "t = np.linspace(-5,5,101)\n",
    "#자유도\n",
    "fd = n-1\n",
    "# pdf = (math.gamma((fd+1) / 2) / (math.sqrt(math.pi * fd)*math.gamma(fd / 2))) * (1 + t ** 2 / fd) ** (-(fd + 1) / 2)\n",
    "pdf = stats.t(fd).pdf(t)\n",
    "plt.figure(figsize=(10, 6))       \n",
    "plt.plot(t, pdf)                       \n",
    "plt.xlabel(\"t\")                      \n",
    "plt.ylabel(\"pdf\")                  \n",
    "# 신뢰구간 색 채우기\n",
    "x_fill = np.linspace(-t_score, t_score,101)   \n",
    "y_fill = stats.t(fd).pdf(x_fill)  \n",
    "plt.fill_between(x_fill, y_fill, alpha = 0.5)\n",
    "plt.vlines(-t_score, 0, stats.t(fd).pdf(-t_score), color='black', linestyle='solid', linewidth=1.5)\n",
    "plt.vlines(t_score, 0, stats.t(fd).pdf(t_score), color='black', linestyle='solid', linewidth=1.5)\n",
    "plt.text(1.71 , .17, r'$P(T>t_{-0.05})$' + f'= {0.90}',fontsize=15)\n",
    "\n",
    "# 가설검정 t_score 그리기\n",
    "plt.vlines(stats.ttest_1samp(df['총_매출액'],7700000).statistic, 0, stats.t(fd).pdf(stats.ttest_1samp(df['총_매출액'],7700000).statistic), color='red', linestyle='solid', linewidth=2)\n",
    "plt.annotate(('test t-score: {:.4f}'.format(stats.ttest_1samp(df['총_매출액'],7700000).statistic)),\n",
    "ha = 'center', va = 'bottom',\n",
    "xytext = (stats.ttest_1samp(df['총_매출액'],7700000).statistic - 1.3, .05),\n",
    "xy = (stats.ttest_1samp(df['총_매출액'],7700000).statistic, stats.t(fd).pdf(stats.ttest_1samp(df['총_매출액'],7700000).statistic)),\n",
    "fontsize = 12,\n",
    "arrowprops = {'facecolor' : 'r', \n",
    "              'edgecolor':'b', \n",
    "              'shrink' : 0.2, \n",
    "              'alpha':0.5})\n",
    "plt.grid()                           \n",
    "plt.title(\"t Distribution with freedom = {:}\" .format(fd))     \n",
    "plt.legend([\"t({:})\".format(fd)])                \n",
    "plt.show()                           "
   ]
  },
  {
   "cell_type": "markdown",
   "metadata": {
    "id": "ehj1QPu679n-"
   },
   "source": [
    "유의수준은 0.1(90%)로 가정하자, 해당 표본의 수는 1000개이므로 자유도는 999이다. 연구가설을 다른 말로 풀이하면 '총 매출액 평균이 770만원 미만이거나(or) 초과한다'이다. 즉 경우가 2개이므로 해당 검정은 양측 검정이 필요하다($\\alpha /2$)\n",
    "<br/>\n",
    "<br/>\n",
    "유의수준이 0.1이므로 임계치는 $t_{0.05,(999)}$이고 자유도가 999일 때 값을 찾아보면 $\\pm1.6464$의 임계치를 가진다. 하지만 결과의 t-value가 임계치 범위 외에 존재하므로, 해당 귀무가설은 거짓이라 볼 수 있다.\n",
    "<br/>\n",
    "<br/>\n",
    "실제 A쇼핑몰의 VIP 고객들의 총 매출액의 산술평균 값은 약 706만 원이므로 작년의 목표 매출액을 달성하지 못했다고 볼 수 있다. "
   ]
  },
  {
   "cell_type": "markdown",
   "metadata": {
    "id": "Fvcb_jgLB5o0"
   },
   "source": [
    "#### 6.3 독립표본 t-검정"
   ]
  },
  {
   "cell_type": "markdown",
   "metadata": {
    "id": "W-xo5Wi_dgcS"
   },
   "source": [
    "(1) 개념\n",
    "<br/>\n",
    "독립표본 t-검정: 두 개의 독립된 그룹간의 특정 값의 평균을 비교하기 위해 사용\n",
    "<br/><br/>\n",
    "독립된 두 표본의 분산이 같을 경우와 다를 경우를 나누어 $t$ 값을 계산한다. $t$값은  \n",
    "* 두 표본의 분산이 같을 경우\n",
    "\\begin{align}\n",
    "    &t = \\dfrac{(\\bar{X}_{1} - \\bar{X}_{2}) - (\\mu_{1} - \\mu_{2})}{s_{p}\\sqrt{\\frac{1}{n_{1}}+\\frac{1}{n_{2}}}}, \n",
    "    \\qquad (\\mu_{1} - \\mu_{2}) \\in (\\bar{X}_{1} - \\bar{X}_{2}) \\pm t_{(\\frac{\\alpha}{2},n_{1}+n_{2}-2)}\\cdot s_{p}\\sqrt{\\frac{1}{n_{1}}+\\frac{1}{n_{2}}} \\\\\n",
    "    &\\text{where} \\quad s_{p} = \\sqrt{\\frac{s_{1}^{2}(n_{1}-1) + s_{2}^{2}(n_{2}-1)}{n_{1}+n_{2}-2}} \\quad \\text{(Pooled variance (or common variance))} \n",
    "\\end{align}\n",
    "\n",
    "* 두 표본의 분산이 다를 경우\n",
    "\\begin{align}\n",
    "    &t = \\dfrac{(\\bar{X}_{1} - \\bar{X}_{2}) - (\\mu_{1} - \\mu_{2})}{\\sqrt{\\frac{s_{1}^{2}}{n_{1}}+\\frac{s_{2}^{2}}{n_{2}}}}, \n",
    "    \\qquad (\\mu_{1} - \\mu_{2}) \\in (\\bar{X}_{1} - \\bar{X}_{2}) \\pm t_{(\\frac{\\alpha}{2},df)}\\cdot \\sqrt{\\frac{s_{1}^{2}}{n_{1}}+\\frac{s_{2}^{2}}{n_{2}}} \\\\\n",
    "    &\\text{where} \\quad df = \\frac{(\\frac{s_{1}^{2}}{n_{1}}+\\frac{s_{2}^{2}}{n_{2}})^{2}}{\\frac{(s_{1}^{2}/n_{1})}{n_{1}-1}+ \\frac{(s_{2}^{2}/n_{2})}{n_{2}-1}}\\quad(\\text{자유도})\n",
    "\\end{align}\n",
    "으로 계산한다. 두 집단 평균의 차(모집단과 표본집단)와 표준오차의 비율이다. t값이 클 수록 두 집단의 평균의 차이가 크다. 이때, 독립표본 t-검정의 경우 자유도가 $n_{1}+n_{2}-2$임.\n",
    "독립표본 t-검정의 귀무가설이 참이기 위해서는\n",
    "\\begin{align}\n",
    "    t \\leq t_{(\\alpha, n_{1} +n_{2}-2)} \\quad &or\\quad t \\leq t_{(\\alpha, df)} \\quad \\text{(단측)}\\\\\n",
    "    t \\geq -t_{(\\alpha, n_{1} +n_{2}-2)} \\quad &or\\quad t \\geq -t_{(\\alpha, df)} \\quad \\text{(단측)}\\\\\n",
    "    |t| \\leq t_{(\\frac{\\alpha}{2}, n_{1} +n_{2}-2)} \\quad &or\\quad |t| \\leq t_{(\\frac{\\alpha}{2}, df)} \\quad \\text{(양측)}\n",
    "\\end{align}\n",
    "라는 조건이 필요하다. 다음의 예시는 해당 귀무가설의 예시이다. "
   ]
  },
  {
   "cell_type": "markdown",
   "metadata": {
    "id": "Gp8Q_2TJUEzi"
   },
   "source": [
    "A 쇼핑의 마케팅 부서는 콜센터를 통해 접수된 클레임고객에 한에 특별한 마케팅을 진행하고자 한다. 클레임 고객은 매장을 찾는 횟수가 적어져 이탈 위험도가 높을 것이다. 이를 위해 클레임 고객과 비클레임 고객간의 매장 방문 횟수가 실제로 차이가 나는지 검증해야한다.\n",
    "<br/>\n",
    "<br/>\n",
    "* 비교 대상군: 클레임 고객 vs 비클레임 고객\n",
    "<br/>\n",
    "* 사용 통계 검정: 독립 표본 t-검정\n",
    "* 가설\n",
    "\\begin{align}\n",
    "    H_{0}(\\text{귀무가설}) &= \\text{A 쇼핑 클레임 고객들과 비클레임 고객들의 방문횟수 차이는 없다.}\\\\\n",
    "    H_{1}(\\text{연구가설}) &= \\text{A 쇼핑 클레임 고객들과 비클레임 고객들의 방문횟수 차이가 있다.} \n",
    "\\end{align}\n",
    "\n",
    "\n"
   ]
  },
  {
   "cell_type": "markdown",
   "metadata": {
    "id": "hoLll7XKjahD"
   },
   "source": [
    "첫 번째로 비클레임 고객과 클레임 고객의 분산이 서로 같은지 확인해야한다. 등분산을 검정하기 위해서 scipy의 stats에서 bartlett을 이용한다.\n",
    "<br/>\n",
    "<br/>\n",
    "등분산 분석에는 bartlett, flignet, levene의 방법이 있다. bartlett 방법은 데이터가 정규분포인 경우에 사용하고, flignet 방법은 비모수 검정으로써 데이터가 비정규성을 보일 때, levene 데이터가 비정규성을 보일 때 사용된다."
   ]
  },
  {
   "cell_type": "code",
   "execution_count": 6,
   "metadata": {
    "colab": {
     "base_uri": "https://localhost:8080/"
    },
    "executionInfo": {
     "elapsed": 22,
     "status": "ok",
     "timestamp": 1678285212500,
     "user": {
      "displayName": "GyeongJun Byeon",
      "userId": "15563492176804444918"
     },
     "user_tz": -540
    },
    "id": "-U0tAA5vV-gm",
    "outputId": "d460ad8b-c21e-4dbc-ad94-517a30cd120e"
   },
   "outputs": [
    {
     "name": "stdout",
     "output_type": "stream",
     "text": [
      "유의확률: 0.000223\n"
     ]
    }
   ],
   "source": [
    "no_claim = df[df.클레임접수여부 == 0]\n",
    "claim = df[df.클레임접수여부 == 1]\n",
    "\n",
    "# stats.batltett이 array형태로 데이터를 받아서 array화\n",
    "df2 = np.array(no_claim.방문빈도)\n",
    "df3 = np.array(claim.방문빈도)\n",
    "\n",
    "# 등분산 검정(분산이 같은지 확인)\n",
    "static, p = stats.bartlett(df2,df3)\n",
    "print('유의확률: {:.6f}'.format(p))"
   ]
  },
  {
   "cell_type": "markdown",
   "metadata": {
    "id": "tVmkIUDgjodi"
   },
   "source": [
    "유의확률이 0.05보다 낮게 나왔으므로 등분산이라는 귀무가설은 기각되었다. 따라서 비클레임 고객과 클레임 고객은 서로 다른 분산을 가진 집단으로 본다."
   ]
  },
  {
   "cell_type": "code",
   "execution_count": 7,
   "metadata": {
    "colab": {
     "base_uri": "https://localhost:8080/"
    },
    "executionInfo": {
     "elapsed": 19,
     "status": "ok",
     "timestamp": 1678285212502,
     "user": {
      "displayName": "GyeongJun Byeon",
      "userId": "15563492176804444918"
     },
     "user_tz": -540
    },
    "id": "xYUkM2bIlx89",
    "outputId": "d0e34268-bb68-482f-fc8b-2bd2f3876b7f"
   },
   "outputs": [
    {
     "name": "stdout",
     "output_type": "stream",
     "text": [
      "유의확률: 0.0096\n",
      "비클레임 고객의 방문빈도 평균: 28.18\n",
      "클레임 고객의 방문빈도 평균:24.74\n"
     ]
    }
   ],
   "source": [
    "# stats에 ttest_ind가 독립표본 t-검정이고, equal_var 파라미터가 등분산 여부를 묻는다.\n",
    "ind_stat, ind_p = stats.ttest_ind(df2, df3, equal_var = False)\n",
    "print('유의확률: {:.4f}'.format(ind_p))\n",
    "print('비클레임 고객의 방문빈도 평균: {:.2f}'.format(df2.mean()))\n",
    "print('클레임 고객의 방문빈도 평균:{:.2f}'.format(df3.mean()))"
   ]
  },
  {
   "cell_type": "markdown",
   "metadata": {
    "id": "7FKvoAzRnDg1"
   },
   "source": [
    "일단 귀무가설으로 보아 양측 검증이므로 유의수준을 0.1이라 두었을 때, 유의확률과 비교해야하는 값은 0.05이다. 결과와 같이 유의확률이 유의수준보다 작게 나왔으므로 귀무가설을 기각한다. 실제로 비클레임 고객과 클레임 고객간의 방문빈도 평균은 약 3.44명으로 나타난다. 따라서 비클레임 고객과 클레임 고객간의 방문빈도의 차이가 있다는 것을 확인하였으므로, 클레임 고객에 대한 마케팅이 더 필요하다."
   ]
  },
  {
   "cell_type": "code",
   "execution_count": 8,
   "metadata": {
    "colab": {
     "base_uri": "https://localhost:8080/",
     "height": 686
    },
    "executionInfo": {
     "elapsed": 530,
     "status": "ok",
     "timestamp": 1678285213017,
     "user": {
      "displayName": "GyeongJun Byeon",
      "userId": "15563492176804444918"
     },
     "user_tz": -540
    },
    "id": "b0Z8t_tDo-RD",
    "outputId": "00d33a5f-4611-47b9-dc3b-bdff34548b6b"
   },
   "outputs": [
    {
     "data": {
      "image/png": "[encoded data removed]",
      "text/plain": [
       "<Figure size 1440x720 with 1 Axes>"
      ]
     },
     "metadata": {
      "needs_background": "light"
     },
     "output_type": "display_data"
    }
   ],
   "source": [
    "import matplotlib\n",
    "#한글 깨짐 방지\n",
    "matplotlib.rcParams['font.family'] = 'NanumBarunGothic'\n",
    "matplotlib.rcParams['axes.unicode_minus'] = False\n",
    "\n",
    "fig = plt.figure(figsize= (20, 10))\n",
    "ax = fig.add_subplot(111)\n",
    "\n",
    "Non_claim = plt.hist(df[df.클레임접수여부 == 0]['방문빈도'], label= \"Non Claim\",\n",
    "                     density= True,\n",
    "                     alpha=0.75)\n",
    "claim = plt.hist(df[df.클레임접수여부 == 1]['방문빈도'], label= \"Claim\",\n",
    "                       density= True,\n",
    "                       alpha=0.75)     \n",
    "plt.suptitle(\"비클레임 고객과 클레임 고객 방문 빈도 분포\", fontsize= 20)\n",
    "plt.xlabel(\"방문 빈도\", fontsize= 16)\n",
    "plt.ylabel(\"빈도 수\", fontsize= 16)\n",
    "\n",
    "plt.legend()\n",
    "plt.text(25, .025,\n",
    "         f\"$\\mu= {df[df.클레임접수여부 == 0]['방문빈도'].mean(): .1f}, \\ \\sigma= {df[df.클레임접수여부 == 0]['방문빈도'].std(): .1f}$\")\n",
    "plt.text(40, .015,\n",
    "         f\"$\\mu= {df[df.클레임접수여부 == 1]['방문빈도'].mean(): .1f}, \\ \\sigma= {df[df.클레임접수여부 == 1]['방문빈도'].std(): .1f}$\")\n",
    "plt.show()"
   ]
  },
  {
   "cell_type": "markdown",
   "metadata": {
    "id": "jzGPOfDDowFN"
   },
   "source": [
    "####6.4 쌍체표본 t-검정\n"
   ]
  },
  {
   "cell_type": "markdown",
   "metadata": {
    "id": "lVLkahIHNanG"
   },
   "source": [
    "(1) 개념\n",
    "<br/>\n",
    "쌍체표본 t-검정: 동일한 표본이 두 개의 서로 다른 상황(실험 처리 여부 혹은 시간의 흐름)에서 특정 수치형 변수의 평균이 동일한 지의 여부를 판단하는 분석방법이다. $t$값은 \n",
    "\\begin{align}\n",
    "    &D_{i} = X_{i} - Y_{i} \\quad(i = 1,\\dots,n) \\\\\n",
    "    &t = \\dfrac{(\\bar{D}) - (\\mu_{D})}{\\frac{s_{D}}{\\sqrt{n}}}, \n",
    "    \\qquad \\mu_{D} \\in (\\bar{X} - \\bar{Y}) \\pm t_{(\\frac{\\alpha}{2},n-1)}\\cdot \\frac{s_{D}}{\\sqrt{n}} \\\\\n",
    "    &\\text{where} \\quad \\mu_{D} = \\mu_{X} - \\mu_{Y} ,\\quad \\bar{D} = \\frac{\\sum_{i=1}^{n} D_{i}}{n}, \\quad s_{D} = \\frac{\\sum_{i=1}^{n}(D_{i} - \\bar{D})^{2}}{n-1}\n",
    "\\end{align}\n",
    "이다. 두 쌍체 그룹의 표본 평균의 차에서 두 쌍체 그룹의 모평균의 차를 표준오차로 나눈 비율이다. $t$값이 클 수록 두 쌍체 그룹의 평균의 차이가 크다는 의미다.\n",
    "<br/>\n",
    "<br/>\n",
    "쌍체표본 t-검정의 특징\n",
    "<br/>\n",
    "* 독립표본 t-검정과 달리, 쌍체표본 t-검정은 분석 대상의 표본이 반드시 대응되어야 함.<br/>\n",
    "* 쌍체 표본 데이터는 시간상 전후의 의미가 있기 때문에 집단간의 독립성 가정이 필요하지 않으며, 두 모분산이 같다고 가정할 필요도 없다.<br/>\n",
    "* 만약, 데이터가 완전한 쌍체를 이루지 않는다면 결측치가 존재하는 것이므로, 하단과 같이 결측치 처리가 필요하다.<br/>\n",
    "\n",
    "|       구분      |                                  설명                                  |\n",
    "|:---------------:|:----------------------------------------------------------------------|\n",
    "| 삭제법          | 결측치가 있는 경우 해당 표본을 삭제하고 분석                           |\n",
    "| 표본 평균법     | 결측 값을 평균값으로 대체                                              |\n",
    "| 단순 대치법     | 회귀분석 등으로 결측값을 예측                                          |\n",
    "| 다중 대치법     | 대체 가능한 여러 값을 추정하고 무작위로 추출하여 할당                  |\n",
    "| Hot-deck 대체법 | 해당 변수의 실제 관측된 값(동일한 특성을 가진) 중 하나를 추출하여 할당 | \n",
    "<표: 결측 값 처리 방법>\n",
    "\n",
    "(2) 분석\n",
    "A쇼핑 마케팅 팀은 그 동안 단순 포인트 적립 및 결제 시 차감 사용 방식을 등급별 사은품 및 할인 쿠폰 지급으로 개선하였다. 이를 통한 고객들의 만족도 변화가 통계적으로 유의미한지 알고 싶다.\n",
    "<br/>\n",
    "<br/>\n",
    "* 비교 대상군: 기존 맴버쉽 만족도 vs 개선 맴버쉽 만족도\n",
    "<br/>\n",
    "* 사용 통계 검정: 쌍체표본 t-검정\n",
    "* 가설\n",
    "\\begin{align}\n",
    "    H_{0}(\\text{귀무가설}) &= \\text{A 쇼핑 고객들의 맴버쉽 프로그램 도입 전 만족도와 도입 후 만족도의 차이는 없다.}\\\\\n",
    "    H_{1}(\\text{연구가설}) &= \\text{A 쇼핑 고객들의 맴버쉽 프로그램 도입 전 만족도와 도입 후 만족도의 차이가 있다.} \n",
    "\\end{align}\n"
   ]
  },
  {
   "cell_type": "code",
   "execution_count": 19,
   "metadata": {
    "colab": {
     "base_uri": "https://localhost:8080/"
    },
    "executionInfo": {
     "elapsed": 448,
     "status": "ok",
     "timestamp": 1678285839017,
     "user": {
      "displayName": "GyeongJun Byeon",
      "userId": "15563492176804444918"
     },
     "user_tz": -540
    },
    "id": "kQzCjO9onYig",
    "outputId": "65ef2eee-6c1b-47ad-af06-c4a5e85e2ad3"
   },
   "outputs": [
    {
     "name": "stdout",
     "output_type": "stream",
     "text": [
      "쌍체표본의 t-value: 29.5604\n",
      "유의확률: 1.7319140513197275e-138\n"
     ]
    }
   ],
   "source": [
    "#쌍체 표본 검정은 stats에서 ttest_rel를 불러온다\n",
    "rel_stats, rel_p = stats.ttest_rel(df['멤버쉽_프로그램_가입후_만족도'],df['멤버쉽_프로그램_가입전_만족도'])\n",
    "print(\"쌍체표본의 t-value: {:.4f}\".format(rel_stats))\n",
    "print(\"유의확률: {:}\".format(rel_p))"
   ]
  },
  {
   "cell_type": "markdown",
   "metadata": {
    "id": "pa-00Zc2oKBr"
   },
   "source": [
    "일단 귀무가설으로 보아 양측 검증이므로 유의수준을 0.1이라 두었을 때, 유의확률과 비교해야하는 값은 0.05이다. 결과와 같이 유의확률이 유의수준보다 작게 나왔으므로 귀무가설을 기각한다. 즉, 맴버쉽 프로그램 도입 후 고객들의 만족도는 차이가 있다고 할 수 있다."
   ]
  }
 ],
 "metadata": {
  "colab": {
   "authorship_tag": "ABX9TyMsZa9D/hEgFC6PYnkN/3nC",
   "provenance": []
  },
  "kernelspec": {
   "display_name": "Python 3 (ipykernel)",
   "language": "python",
   "name": "python3"
  },
  "language_info": {
   "codemirror_mode": {
    "name": "ipython",
    "version": 3
   },
   "file_extension": ".py",
   "mimetype": "text/x-python",
   "name": "python",
   "nbconvert_exporter": "python",
   "pygments_lexer": "ipython3",
   "version": "3.9.13"
  }
 },
 "nbformat": 4,
 "nbformat_minor": 1
}
