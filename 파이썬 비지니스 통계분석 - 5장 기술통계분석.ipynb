{
 "cells": [
  {
   "cell_type": "markdown",
   "metadata": {
    "id": "wccydq_QSlGk"
   },
   "source": [
    "# 5장. 기술통계분석\n",
    "#### 5.1 평균, 분산, 표준편차\n",
    "$1.$ 평균\n",
    "\n",
    "1) 산술 평균: 자료들의 전체 합을 자료의 개수(또는 자유도)로 나눈 값\n",
    "\\begin{align}\n",
    "\\mathbb{E}(X) = \\dfrac{\\sum_{i=1}^{n}X_{i}}{n} = \\dfrac{X_{1}+X_{2}+\\cdots+X_{n}}{n}\n",
    "\\end{align}\n",
    "\n",
    "2)기하 평균: 자료들의 곱을 자료 수만큼 제곱근한 값, 주로 곱셈으로 계산하는 값들의 평균을 계산할 때 사용\n",
    "\\begin{align}\n",
    "\\mathbb{E}(X) = (\\prod_{i=1}^{n}X_{i})^{1/n} = (X_{1}\\cdot X_{2}\\cdots X_{n})^{1/n}\n",
    "\\end{align}\n",
    "\n",
    "3)조화 평균:역수들의 산술평균을 다시 역수를 취한 값, 주로 데이터의 평균적인 변화율이나 업무능률의 평균을 구할 때 사용\n",
    "\\begin{align}\n",
    "\\mathbb{E}(X) = \\dfrac{1}{\\dfrac{\\sum_{i=1}^{n}\\frac{1}{X_{i}}}{n}} = \\dfrac{1}{\\dfrac{(\\frac{1}{X_{1}} + \\frac{1}{X_{2}} + \\cdots + \\frac{1}{X_{n}})}{n}}\n",
    "\\end{align}\n",
    "\n",
    "$2. $ 분산, 표준편차\n",
    "\n",
    "1) 분산: 자료의 퍼짐을 알 수 있는 지표, 산술평균이 갖지 못하는 자료의 산포도를 제공함.\n",
    "\\begin{align}\n",
    "Var(X) = \\frac{1}{n}\\sum_{i=1}^{n}(X_{i} - \\mathbb{E}(X))^{2}\n",
    "\\end{align}\n",
    "\n",
    "2) 표준편차\n",
    "\\begin{align}\n",
    "\\sigma(X) = \\sqrt{Var(X)}\n",
    "\\end{align}\n"
   ]
  },
  {
   "cell_type": "markdown",
   "metadata": {
    "id": "RQe4SYMkiq1f"
   },
   "source": [
    "예시) A쇼핑에서 증정된 할인권 사용빈도를 분석하고 싶다. 성별을 기준으로 평균과 표준편차를 확인하면 고객마다 할인권 지급 수를 조절할 수 있고, 성별 따라 분표가 다르다면 새로운 고객별 쿠폰 지급 전략을 세울 수 있다."
   ]
  },
  {
   "cell_type": "code",
   "execution_count": 9,
   "metadata": {
    "colab": {
     "base_uri": "https://localhost:8080/"
    },
    "executionInfo": {
     "elapsed": 2976,
     "status": "ok",
     "timestamp": 1678193354191,
     "user": {
      "displayName": "GyeongJun Byeon",
      "userId": "15563492176804444918"
     },
     "user_tz": -540
    },
    "id": "DkOHNhoOLSDc",
    "outputId": "c4e0dfa6-683a-4ecd-b2d9-633065afa328"
   },
   "outputs": [
    {
     "name": "stdout",
     "output_type": "stream",
     "text": [
      "Drive already mounted at /content/drive; to attempt to forcibly remount, call drive.mount(\"/content/drive\", force_remount=True).\n"
     ]
    }
   ],
   "source": [
    "import pandas as pd\n",
    "from google.colab import drive\n",
    "drive.mount('/content/drive')"
   ]
  },
  {
   "cell_type": "code",
   "execution_count": 10,
   "metadata": {
    "colab": {
     "base_uri": "https://localhost:8080/"
    },
    "executionInfo": {
     "elapsed": 12,
     "status": "ok",
     "timestamp": 1678193354192,
     "user": {
      "displayName": "GyeongJun Byeon",
      "userId": "15563492176804444918"
     },
     "user_tz": -540
    },
    "id": "S0dl02PthFaW",
    "outputId": "fc15d9d6-ca9a-4ac4-dd4c-e3be589609e1"
   },
   "outputs": [
    {
     "name": "stdout",
     "output_type": "stream",
     "text": [
      "<class 'pandas.core.frame.DataFrame'>\n",
      "RangeIndex: 1000 entries, 0 to 999\n",
      "Data columns (total 39 columns):\n",
      " #   Column            Non-Null Count  Dtype  \n",
      "---  ------            --------------  -----  \n",
      " 0   고객ID              1000 non-null   int64  \n",
      " 1   이탈여부              1000 non-null   int64  \n",
      " 2   총_매출액             1000 non-null   int64  \n",
      " 3   방문빈도              1000 non-null   int64  \n",
      " 4   1회_평균매출액          1000 non-null   int64  \n",
      " 5   할인권_사용 횟수         1000 non-null   int64  \n",
      " 6   총_할인_금액           1000 non-null   int64  \n",
      " 7   고객등급              1000 non-null   int64  \n",
      " 8   구매유형              1000 non-null   int64  \n",
      " 9   클레임접수여부           1000 non-null   int64  \n",
      " 10  구매_카테고리_수         1000 non-null   int64  \n",
      " 11  거주지역              1000 non-null   int64  \n",
      " 12  성별                1000 non-null   int64  \n",
      " 13  고객_나이대            1000 non-null   int64  \n",
      " 14  거래기간              1000 non-null   int64  \n",
      " 15  할인민감여부            1000 non-null   int64  \n",
      " 16  멤버쉽_프로그램_가입전_만족도  1000 non-null   int64  \n",
      " 17  멤버쉽_프로그램_가입후_만족도  1000 non-null   int64  \n",
      " 18  Recency           1000 non-null   int64  \n",
      " 19  Frequency         1000 non-null   int64  \n",
      " 20  Monetary          1000 non-null   int64  \n",
      " 21  상품_만족도            1000 non-null   int64  \n",
      " 22  매장_만족도            1000 non-null   int64  \n",
      " 23  서비스_만족도           1000 non-null   int64  \n",
      " 24  상품_품질             1000 non-null   int64  \n",
      " 25  상품_다양성            1000 non-null   int64  \n",
      " 26  가격_적절성            1000 non-null   int64  \n",
      " 27  상품_진열_위치          934 non-null    float64\n",
      " 28  상품_설명_표시          862 non-null    float64\n",
      " 29  매장_청결성            1000 non-null   int64  \n",
      " 30  공간_편의성            1000 non-null   int64  \n",
      " 31  시야_확보성            1000 non-null   int64  \n",
      " 32  음향_적절성            1000 non-null   int64  \n",
      " 33  안내_표지판_설명         1000 non-null   int64  \n",
      " 34  친절성               1000 non-null   int64  \n",
      " 35  신속성               1000 non-null   int64  \n",
      " 36  책임성               1000 non-null   int64  \n",
      " 37  정확성               1000 non-null   int64  \n",
      " 38  전문성               1000 non-null   int64  \n",
      "dtypes: float64(2), int64(37)\n",
      "memory usage: 304.8 KB\n"
     ]
    }
   ],
   "source": [
    "file_dir = '/content/drive/MyDrive/pythondata/데이터'\n",
    "df = pd.read_csv(file_dir + '/Ashopping.csv', encoding = 'CP949')\n",
    "df.info()"
   ]
  },
  {
   "cell_type": "code",
   "execution_count": 11,
   "metadata": {
    "colab": {
     "base_uri": "https://localhost:8080/",
     "height": 175
    },
    "executionInfo": {
     "elapsed": 11,
     "status": "ok",
     "timestamp": 1678193354193,
     "user": {
      "displayName": "GyeongJun Byeon",
      "userId": "15563492176804444918"
     },
     "user_tz": -540
    },
    "id": "ki1qvwrHhKu8",
    "outputId": "61e264f6-c85e-4cc5-9dd1-3427b5f32d78"
   },
   "outputs": [
    {
     "data": {
      "text/html": [
       "\n",
       "  <div id=\"df-7d5e0a1f-d574-4bbf-90cb-089de619d092\">\n",
       "    <div class=\"colab-df-container\">\n",
       "      <div>\n",
       "<style scoped>\n",
       "    .dataframe tbody tr th:only-of-type {\n",
       "        vertical-align: middle;\n",
       "    }\n",
       "\n",
       "    .dataframe tbody tr th {\n",
       "        vertical-align: top;\n",
       "    }\n",
       "\n",
       "    .dataframe thead tr th {\n",
       "        text-align: left;\n",
       "    }\n",
       "\n",
       "    .dataframe thead tr:last-of-type th {\n",
       "        text-align: right;\n",
       "    }\n",
       "</style>\n",
       "<table border=\"1\" class=\"dataframe\">\n",
       "  <thead>\n",
       "    <tr>\n",
       "      <th></th>\n",
       "      <th colspan=\"3\" halign=\"left\">할인권_사용 횟수</th>\n",
       "    </tr>\n",
       "    <tr>\n",
       "      <th></th>\n",
       "      <th>mean</th>\n",
       "      <th>var</th>\n",
       "      <th>std</th>\n",
       "    </tr>\n",
       "    <tr>\n",
       "      <th>성별</th>\n",
       "      <th></th>\n",
       "      <th></th>\n",
       "      <th></th>\n",
       "    </tr>\n",
       "  </thead>\n",
       "  <tbody>\n",
       "    <tr>\n",
       "      <th>0</th>\n",
       "      <td>15.986577</td>\n",
       "      <td>69.053873</td>\n",
       "      <td>8.309866</td>\n",
       "    </tr>\n",
       "    <tr>\n",
       "      <th>1</th>\n",
       "      <td>16.034078</td>\n",
       "      <td>69.750602</td>\n",
       "      <td>8.351683</td>\n",
       "    </tr>\n",
       "  </tbody>\n",
       "</table>\n",
       "</div>\n",
       "      <button class=\"colab-df-convert\" onclick=\"convertToInteractive('df-7d5e0a1f-d574-4bbf-90cb-089de619d092')\"\n",
       "              title=\"Convert this dataframe to an interactive table.\"\n",
       "              style=\"display:none;\">\n",
       "        \n",
       "  <svg xmlns=\"http://www.w3.org/2000/svg\" height=\"24px\"viewBox=\"0 0 24 24\"\n",
       "       width=\"24px\">\n",
       "    <path d=\"M0 0h24v24H0V0z\" fill=\"none\"/>\n",
       "    <path d=\"M18.56 5.44l.94 2.06.94-2.06 2.06-.94-2.06-.94-.94-2.06-.94 2.06-2.06.94zm-11 1L8.5 8.5l.94-2.06 2.06-.94-2.06-.94L8.5 2.5l-.94 2.06-2.06.94zm10 10l.94 2.06.94-2.06 2.06-.94-2.06-.94-.94-2.06-.94 2.06-2.06.94z\"/><path d=\"M17.41 7.96l-1.37-1.37c-.4-.4-.92-.59-1.43-.59-.52 0-1.04.2-1.43.59L10.3 9.45l-7.72 7.72c-.78.78-.78 2.05 0 2.83L4 21.41c.39.39.9.59 1.41.59.51 0 1.02-.2 1.41-.59l7.78-7.78 2.81-2.81c.8-.78.8-2.07 0-2.86zM5.41 20L4 18.59l7.72-7.72 1.47 1.35L5.41 20z\"/>\n",
       "  </svg>\n",
       "      </button>\n",
       "      \n",
       "  <style>\n",
       "    .colab-df-container {\n",
       "      display:flex;\n",
       "      flex-wrap:wrap;\n",
       "      gap: 12px;\n",
       "    }\n",
       "\n",
       "    .colab-df-convert {\n",
       "      background-color: #E8F0FE;\n",
       "      border: none;\n",
       "      border-radius: 50%;\n",
       "      cursor: pointer;\n",
       "      display: none;\n",
       "      fill: #1967D2;\n",
       "      height: 32px;\n",
       "      padding: 0 0 0 0;\n",
       "      width: 32px;\n",
       "    }\n",
       "\n",
       "    .colab-df-convert:hover {\n",
       "      background-color: #E2EBFA;\n",
       "      box-shadow: 0px 1px 2px rgba(60, 64, 67, 0.3), 0px 1px 3px 1px rgba(60, 64, 67, 0.15);\n",
       "      fill: #174EA6;\n",
       "    }\n",
       "\n",
       "    [theme=dark] .colab-df-convert {\n",
       "      background-color: #3B4455;\n",
       "      fill: #D2E3FC;\n",
       "    }\n",
       "\n",
       "    [theme=dark] .colab-df-convert:hover {\n",
       "      background-color: #434B5C;\n",
       "      box-shadow: 0px 1px 3px 1px rgba(0, 0, 0, 0.15);\n",
       "      filter: drop-shadow(0px 1px 2px rgba(0, 0, 0, 0.3));\n",
       "      fill: #FFFFFF;\n",
       "    }\n",
       "  </style>\n",
       "\n",
       "      <script>\n",
       "        const buttonEl =\n",
       "          document.querySelector('#df-7d5e0a1f-d574-4bbf-90cb-089de619d092 button.colab-df-convert');\n",
       "        buttonEl.style.display =\n",
       "          google.colab.kernel.accessAllowed ? 'block' : 'none';\n",
       "\n",
       "        async function convertToInteractive(key) {\n",
       "          const element = document.querySelector('#df-7d5e0a1f-d574-4bbf-90cb-089de619d092');\n",
       "          const dataTable =\n",
       "            await google.colab.kernel.invokeFunction('convertToInteractive',\n",
       "                                                     [key], {});\n",
       "          if (!dataTable) return;\n",
       "\n",
       "          const docLinkHtml = 'Like what you see? Visit the ' +\n",
       "            '<a target=\"_blank\" href=https://colab.research.google.com/notebooks/data_table.ipynb>data table notebook</a>'\n",
       "            + ' to learn more about interactive tables.';\n",
       "          element.innerHTML = '';\n",
       "          dataTable['output_type'] = 'display_data';\n",
       "          await google.colab.output.renderOutput(dataTable, element);\n",
       "          const docLink = document.createElement('div');\n",
       "          docLink.innerHTML = docLinkHtml;\n",
       "          element.appendChild(docLink);\n",
       "        }\n",
       "      </script>\n",
       "    </div>\n",
       "  </div>\n",
       "  "
      ],
      "text/plain": [
       "    할인권_사용 횟수                     \n",
       "         mean        var       std\n",
       "성별                                \n",
       "0   15.986577  69.053873  8.309866\n",
       "1   16.034078  69.750602  8.351683"
      ]
     },
     "execution_count": 11,
     "metadata": {},
     "output_type": "execute_result"
    }
   ],
   "source": [
    "df_1 = df[['할인권_사용 횟수','성별']]\n",
    "df_1.groupby('성별').agg(['mean','var','std'])"
   ]
  },
  {
   "cell_type": "markdown",
   "metadata": {
    "id": "8HhWhdgbiGOw"
   },
   "source": [
    "분석결과 성별에 따라 평균이나 분산의 값이 크게 차이가 나지 않아, 성별에 따른 전략은 모색하지 않아도 될 것같다."
   ]
  },
  {
   "cell_type": "markdown",
   "metadata": {
    "id": "zHAoG3P3j24Y"
   },
   "source": [
    "#### 5.2 왜도와 첨도\n",
    "\n",
    "분산과 표준편차는 산포도(자료의 퍼짐)를 파악할 수 있으나, 구체적인 특성(치우침, 뾰족함)은 파악할 수 없다. 왜도와 첨도를 이용하면 산포도의 외형적인 특성을 파악할 수 있다.\n",
    "\n",
    "1) 왜도(Skewness): 자료들의 분포가 왼쪽/오른쪽으로 치우쳐 있는 정도를 나타내는 지표.\n",
    "\\begin{align}\n",
    "    S(X) = \\dfrac{1}{n}\\sum_{i=1}^{n}\\dfrac{(X_{i} - \\mathbb{E}(X))^{3}}{\\sigma(X)^{3}} \\qquad where \\quad \\sigma(X):\\text{standard deviation}\n",
    "\\end{align}\n",
    "이때, $S(X)$가 0이면 대칭분포, 0보다 크면 오른쪽으로 치우친 분표, 0보다 작으면 왼쪽으로 치우친 분포다.\n",
    "\n",
    "2)첨도(Kurtosis): 분표의 뾰족한 정도를 나타내는 값으로서 자료들이 얼마나 평균이 집중되어 있는지를 나타내는 지표. 3을 빼는 이유는 $X \\sim N(0,1)$의 확률변수의 $\\mathbb{E}(X^{4}) = 3$이기 때문이다.\n",
    "\\begin{align}\n",
    "    K(X) = \\dfrac{1}{n}\\sum_{i=1}^{n}\\dfrac{(X_{i} - \\mathbb{E}(X))^{4}}{\\sigma(X)^{4}}-3 \\qquad where \\quad \\sigma(X):\\text{standard deviation}\n",
    "\\end{align}\n",
    "이때, $K(X)$가 0이면 정규분표, 0보다 크면 정규분포보다 뾰족한 분표를 보이고, 0보다 작으면 정규분포보다 완만한 분표를 보인다."
   ]
  },
  {
   "cell_type": "markdown",
   "metadata": {
    "id": "AFamnLOJoEHQ"
   },
   "source": [
    "예시) A쇼핑몰의 서비스만족도에 대한 왜도와 첨도를 분석하라."
   ]
  },
  {
   "cell_type": "code",
   "execution_count": 12,
   "metadata": {
    "executionInfo": {
     "elapsed": 304,
     "status": "ok",
     "timestamp": 1678193354489,
     "user": {
      "displayName": "GyeongJun Byeon",
      "userId": "15563492176804444918"
     },
     "user_tz": -540
    },
    "id": "Y-RxY5IvqfvV"
   },
   "outputs": [],
   "source": [
    "#코랩에서 한글 사용하려면 하단 코드 실행 후, 런타임 다시 시작\n",
    "#!sudo apt-get install -y fonts-nanum\n",
    "#!sudo fc-cache -fv\n",
    "#!rm ~/.cache/matplotlib -rf"
   ]
  },
  {
   "cell_type": "code",
   "execution_count": 13,
   "metadata": {
    "colab": {
     "base_uri": "https://localhost:8080/",
     "height": 353
    },
    "executionInfo": {
     "elapsed": 741,
     "status": "ok",
     "timestamp": 1678193355226,
     "user": {
      "displayName": "GyeongJun Byeon",
      "userId": "15563492176804444918"
     },
     "user_tz": -540
    },
    "id": "0cNRa9wgoAfD",
    "outputId": "9918402c-dfce-43d3-9ceb-7eb43d75315d"
   },
   "outputs": [
    {
     "name": "stdout",
     "output_type": "stream",
     "text": [
      "mean    5.544000\n",
      "skew   -0.970661\n",
      "kurt    1.147825\n",
      "Name: 서비스_만족도, dtype: float64\n"
     ]
    },
    {
     "data": {
      "image/png": "[encoded data removed]",
      "text/plain": [
       "<Figure size 432x288 with 1 Axes>"
      ]
     },
     "metadata": {
      "needs_background": "light"
     },
     "output_type": "display_data"
    }
   ],
   "source": [
    "print(df.서비스_만족도.apply(['mean','skew','kurt']))\n",
    "\n",
    "import matplotlib.pyplot as plt\n",
    "from importlib import reload\n",
    "plt=reload(plt)\n",
    "import matplotlib\n",
    "\n",
    "#한글 깨짐 방지\n",
    "matplotlib.rcParams['font.family'] = 'NanumBarunGothic'\n",
    "matplotlib.rcParams['axes.unicode_minus'] = False\n",
    "\n",
    "plt.hist(df['서비스_만족도'], alpha = 0.4, bins = 7, rwidth = 1, color = 'blue', label = '서비스만족도')\n",
    "x = df['서비스_만족도'].drop_duplicates().sort_values()\n",
    "y = df['서비스_만족도'].value_counts().sort_values()\n",
    "#plt.plot(x,y)\n",
    "plt.legend()\n",
    "plt.grid()\n",
    "plt.xlabel('서비스 만족도')\n",
    "plt.ylabel('빈도')\n",
    "plt.show()"
   ]
  },
  {
   "cell_type": "markdown",
   "metadata": {
    "id": "qMfqtBjUrleX"
   },
   "source": [
    "왜도가 -0.971(<0)이고 첨도는 1.148(>0)이다. 왜도가 음수이므로 그래프가 좌측으로 쏠려있고, 첨도가 0을 넘으므로 정규분포보다 뾰족한 것(평균보다 다소 높게 평가하는 고객이 많음)을 확인 할 수 있다."
   ]
  },
  {
   "cell_type": "markdown",
   "metadata": {
    "id": "dosYUG2rtr5e"
   },
   "source": [
    "#### 5.3 기타 기술통계량\n",
    "\n",
    "1) 중앙값(median): 자료를 크기 순서대로 놓았을 때 가장 중앙에 위치한 값 (대표성을 나타내는 보조 지표)\n",
    "\\begin{align}\n",
    "md =     \\begin{cases}\n",
    "        X_{(\\frac{n+1}{2})} & \\text{if } \\text{n is odd number}\\\\\n",
    "        (X_{(\\frac{n}{2})} + X_{(\\frac{n+2}{2})})/2 & \\text{if } \\text{n is even number} \n",
    "        \\end{cases}\n",
    "\\end{align}\n",
    "\n",
    "2) 최빈값(mode): 자료의 집단에서 가장 많이 관측되는 수치 (중앙값과 마찬가지로 자료의 대표성을 나타내는 보조 지표)\n",
    "\n",
    "3) 사분위수(quartile): 자료들을 크기 순서로 놓았을 때 누적 백분율을 4등분한 각 점의 위치를 의미 (주로 상자그림(box plot)을 그릴 때 자주 이용)\n",
    "\n",
    "* 1사분위수: 누적 25%\n",
    "\n",
    "* 2사분위수: 누적 50% = 중앙값\n",
    "\n",
    "* 3사분위수: 누적 75%\n",
    "\n",
    "* 4사분위수: 누적 100%\n",
    "\n",
    "사분위수는 분산, 표준편창와 같이 자료의 전반적인 분포의 특성을 설명해줄 뿐만 아니라, 왜도와 첨도와 같이 특정 영역에서의 집중성이나 편중성 또한 묘사해주기 때문에 유용한 통계지표로 활용됨."
   ]
  },
  {
   "cell_type": "markdown",
   "metadata": {
    "id": "oLwUz8HEzdjd"
   },
   "source": [
    "예시) A쇼핑몰에서 정기적으로 고객들에게 할인권을 뿌린다. 매달 고객들에서 1~2장의 할인권을 발송하는데, 평균 사용횟수가 연 16회 정도라 적절하다고 생각했다. 하지만 할인쿠폰의 사용빈도의 평균으로만 해석하기에는 신뢰성이 떨어져, 중앙값, 최빈값과 같은 기술통계량으로 의사결정의 타당성을 검증해보라. "
   ]
  },
  {
   "cell_type": "code",
   "execution_count": 14,
   "metadata": {
    "colab": {
     "base_uri": "https://localhost:8080/"
    },
    "executionInfo": {
     "elapsed": 9,
     "status": "ok",
     "timestamp": 1678193355226,
     "user": {
      "displayName": "GyeongJun Byeon",
      "userId": "15563492176804444918"
     },
     "user_tz": -540
    },
    "id": "CvxiF21i0qTs",
    "outputId": "5b5ca63a-3c94-4f80-8c6d-35f879159a9f"
   },
   "outputs": [
    {
     "name": "stdout",
     "output_type": "stream",
     "text": [
      "1분위수: 9.0\n",
      "2분위수: 17.0\n",
      "3분위수: 23.0\n",
      "4분위수: 30.0\n",
      "최빈값: 22\n"
     ]
    }
   ],
   "source": [
    "import numpy as np\n",
    "\n",
    "# percentile 함수는 데이터 값의 분위수를 불러온다.\n",
    "print(\"1분위수: {:}\".format(np.percentile(df['할인권_사용 횟수'],25)))\n",
    "print(\"2분위수: {:}\".format(np.percentile(df['할인권_사용 횟수'],50)))\n",
    "print(\"3분위수: {:}\".format(np.percentile(df['할인권_사용 횟수'],75)))\n",
    "print(\"4분위수: {:}\".format(np.percentile(df['할인권_사용 횟수'],100)))\n",
    "# value_counts로 할인권 사용 횟수의 빈도를 조사하고, idxmax로 최대값일 때의 값을 불러온다. \n",
    "print(\"최빈값: {:}\".format(df['할인권_사용 횟수'].value_counts().idxmax()))"
   ]
  },
  {
   "cell_type": "code",
   "execution_count": 15,
   "metadata": {
    "colab": {
     "base_uri": "https://localhost:8080/"
    },
    "executionInfo": {
     "elapsed": 8,
     "status": "ok",
     "timestamp": 1678193355227,
     "user": {
      "displayName": "GyeongJun Byeon",
      "userId": "15563492176804444918"
     },
     "user_tz": -540
    },
    "id": "1Om8syPP1-k9",
    "outputId": "ea83f6d9-2dc8-485c-f744-13e25ee40a63"
   },
   "outputs": [
    {
     "name": "stdout",
     "output_type": "stream",
     "text": [
      "count    1000.000000\n",
      "mean       16.027000\n",
      "std         8.341334\n",
      "min         1.000000\n",
      "25%         9.000000\n",
      "50%        17.000000\n",
      "75%        23.000000\n",
      "max        30.000000\n",
      "Name: 할인권_사용 횟수, dtype: float64\n"
     ]
    }
   ],
   "source": [
    "print(df['할인권_사용 횟수'].describe())"
   ]
  },
  {
   "cell_type": "markdown",
   "metadata": {
    "id": "D8WBNPgB2Gol"
   },
   "source": [
    "분석결과에서 볼 수 있듯이, 할인권 사용 횟수의 중앙값은 17이므로 중간 수준의 연간 회원들은  할인권을 17회 사용하였으며 연간 22회(최빈값) 사용한 회원이 가장 많은 것으로 볼 수 있다. 결론적으로 상위 고객일수록 연간 할인권 사용 횟수는 많이 높아지는 것을 볼 수 있다."
   ]
  }
 ],
 "metadata": {
  "colab": {
   "authorship_tag": "ABX9TyMuB0NGwXgmwmCKkbUKkc8D",
   "mount_file_id": "1p8t4qcfuEESY50JNdLwPi70I_Xjr1hiY",
   "provenance": []
  },
  "kernelspec": {
   "display_name": "Python 3 (ipykernel)",
   "language": "python",
   "name": "python3"
  },
  "language_info": {
   "codemirror_mode": {
    "name": "ipython",
    "version": 3
   },
   "file_extension": ".py",
   "mimetype": "text/x-python",
   "name": "python",
   "nbconvert_exporter": "python",
   "pygments_lexer": "ipython3",
   "version": "3.9.13"
  }
 },
 "nbformat": 4,
 "nbformat_minor": 1
}
