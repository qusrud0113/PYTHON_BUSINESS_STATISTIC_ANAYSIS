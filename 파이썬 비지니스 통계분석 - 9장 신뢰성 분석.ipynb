{
 "cells": [
  {
   "cell_type": "markdown",
   "metadata": {
    "id": "n5xeZy0huHXV"
   },
   "source": [
    "# 9장. 신뢰성 분석 (Reliability Analysis)\n",
    "\n",
    "#### 9.1 신뢰성과 타당성\n",
    "\n",
    "* 신뢰성(Reliability): 측정하고자 하는 대상을 얼마나 일관되게 측정하였는지를 나타내는 지표\n",
    "* 타당성(Validity): 측정하고자 하는 개념을 얼마나 정확하게 도출할 수 있는가를 나타내는 지표\n",
    "* 타당성이 만족되기 위해선 신뢰성이 만족되어야하지만, 신뢰성이 높다고해서 타당성이 높다고 할 수는 없다.\n",
    "* 예시) 거래 에러를 탐지할 수 있는 감지기가 있다. 이 거래와 관련된 데이터를 감지기에 넣을 때 검증 능력이 매우 높지만, 감지기에 거래와 상관 없는 데이터를 넣게 된다면 타당성이 떨어지기 마련이다.\n",
    "\n",
    "(1) 측정오차\n",
    "* 측정오차: 실제값과 측정값의 차로 정의하며, 이를 다시 체계적오차와 비계적오차로 나눌 수 있다.\n",
    "\\begin{align}\n",
    "\\text{측정오차} &= \\text{실제값} - \\text{측정값}\\\\\n",
    "&=\\text{체계적오차} - \\text{비체계적오차}\n",
    "\\end{align}\n",
    "* 체계적오차: 측정과정에서 일정한 패턴을 나태내는 오차로, 타당성을 결정하는데 사용되는 개념이다.\n",
    "* 비체계적오차: 측정과정에서 일정한 패턴이 없는 오차로, 신뢰성을 결정하는 개념이다.\n",
    "\n",
    "(2) 신뢰성\n",
    "* 통계적으로 신뢰성이란 측정대상을 반복적으로 측정했을 때 동일한 결과가 나오는 정도를 의미한다고 볼 수 있다.\n",
    "<br/>\n",
    "<br/>\n",
    "* 반복측정(Test-retest reliability): 측정방법이 하나 밖에 없는 경우 측정 대상에 대해 시간 간격을 두고 2회에 걸쳐 측정한 후에 그 결과의 상관관계를 검토하여 신뢰성을 평가함.\n",
    "* 단점: 동일한 측정방법을 이용하여 신뢰성을 평가하므로, 시간 간격에 따라 평가에 영향을 미칠 수 있음. 시간과 비용 상승. 한번 실험을 진행했던 실험자들을 대상으로 측정하므로 두번째 결과에 영향을 미칠 수 있는 주시험 효과(main testing effect) 존재 가능.\n",
    "<br/>\n",
    "<br/>\n",
    "* 대체측정(Alternative forms reliability): 대등한 두 가지의 측정도구가 있을 때 측정대상을 동시에 측정한 후, 결과의 상관관계를 검토하여 신뢰성을 평가함.\n",
    "* 단점: 대등한 측정 도구나 방법을 개발하는 데 비용과 시간이 더 소모될 수 있음.\n",
    "<br/>\n",
    "<br/>\n",
    "* 반분측정(Split-half form reliability): 다수의 측정 항목이 존재할 경우 이를 두 개의 그룹으로 나누고, 측정대상도 두 그룹으로 나누어 측정된 결과값 사이의 상관관계를 분석하여 신뢰성 평가.\n",
    "* 단점: 다수 측정 항목의 모델 구현과 동질성 확보 어려움이 있음.\n",
    "<br/>\n",
    "<br/>\n",
    "* 내적일관성(Internal consistency analysis): 하나의 개념을 측정하기 위해, 하위 측정항목이 있는 경우 이들의 측정값 사이의 상관관계를 분석하여 신뢰성을 평가함. 내적일관성의 분석방법은 크론바흐 알파(Cronbach's alpha)를 이용함.\n",
    "\n",
    "\n",
    "(3) 타당성\n",
    "* 타당성은 측정하고자 하는 대상(구성개념)을 측정항목이 제대로(혹은 올바르게) 측정하고 있는지를 나태내는 정도이다.\n",
    "* 내용타당성: 측정하고자 하는 개념의 내용이나 속성을 얼마나 정확히 측정하고 있느냐의 수준을 의미\n",
    "* 기준타당성(예측적 타당성, 동시적 타당성): 측정 결과값을 기준으로 실제로 평가하고자 하는 개념이나 상태를 올바르게 나타낼 수 있는 정도를 의미\n",
    "* 구성타당성: 측정하고자 하는 개념의 하위 요소들이 상위 개념을 적절히 측정하고 있는지를 나태내고 있는 정도를 의미있느냐의 수준을 의미\n",
    "* 기준타당성(예측적 타당성, 동시적 타당성): 측정 결과값을 기준으로 실제로 평가하고자 하는 개념이나 상태를 올바르게 나타낼 수 있는 정도를 의미\n",
    "* 구성타당성: 측정하고자 하는 개념의 하위 요소들이 상위 개념을 적절히 측정하고 있는지를 나태내고 있는 정도를 의미\n",
    "    * 집중타당성: 동일한 개념을 측정하는 다수의 측정도구 사이의 상관관계 정도\n",
    "<br/>\n",
    "    * 판별타당성: 상이한 개념을 측정하는 서로 다른 측정도구 사이의 상관관계 정도\n",
    "<br/>\n",
    "    * 이해타당성: 구성개념들간의 이론적인, 논리적인 관계가 실제 측정 결과에도 나타나고 있는지를 판단하는 개념\n",
    "\n",
    "#### 9.2 내적일관성 분석\n",
    "\n",
    "(1) 개념\n",
    "\n",
    "* 내적일관성(Internal consistency analysis): 하나의 개념을 측정하기 위해, 하위 측정항목이 있는 경우 이들의 측정값 사이의 상관관계를 분석하여 신뢰성을 평가함.\n",
    "* 크론바흐 알파(Cronbach's Alpha) \n",
    "\\begin{align}\n",
    "    \\text{Cronbach's }\\alpha = \\frac{N}{N-1}\\cdot \\bigg[1-\\frac{\\sum_{i=1}^{N}\\sigma_{i}^{2}}{\\sigma_{T}^{2}}\\bigg]\\\\\n",
    "    where\\quad N = \\text{문항수},\\quad \\sigma_{T}^{2} = \\text{항목의 합점수의 분산},\\quad \\sigma_{i}^{2} = \\text{각 항목의 분산}\n",
    "\\end{align}\n",
    "크론바흐 알파계수가 0.6미만이면 내적일관성이 결여되는 것으로 판단\n",
    "<br/>\n",
    "크론바흐 알파계수가 0.6이상, 0.7미만이면 신뢰성이 존재한다고 판단\n",
    "<br/>\n",
    "크론바흐 알파계수가 0.7이상이면 신뢰성이 높다고 판단\n",
    "\n",
    "(2) 예시\n",
    "* A쇼핑에서는 매장에서 고객의 직원에 대한 만족도를 평가하고, 이에 따라 적절한 직원교육 체계를 마련하고자 한다. A쇼핑은 직원에 대한 만족도를 평가하기위해 친절성, 신속성, 책임성, 정확성, 전문성을 측정하는 항목을 개발하여 조사하였고, 5개 항목으로 구성된 직원의 만족도 평가 신뢰성 있는 조사인지 확인하기 위해 내적일관성 분석을 수행하고자 한다.\n",
    "\n",
    "\\begin{align}\n",
    "    H_{0}(\\text{귀무가설}) &= \\text{5개 항목으로 만들어진 만족도 평가는 신뢰성이 있다.}\\\\\n",
    "    H_{1}(\\text{연구가설}) &= \\text{5개 항목으로 만들어진 만족도 평가는 신뢰성이 없다.} \n",
    "\\end{align}\n",
    "* 참고: 크론바흐 알파계수가 0.6미만하면 귀무가설을 기각한다."
   ]
  },
  {
   "cell_type": "code",
   "execution_count": 3,
   "metadata": {
    "colab": {
     "base_uri": "https://localhost:8080/"
    },
    "executionInfo": {
     "elapsed": 4765,
     "status": "ok",
     "timestamp": 1678943888480,
     "user": {
      "displayName": "GyeongJun Byeon",
      "userId": "15563492176804444918"
     },
     "user_tz": -540
    },
    "id": "CmH0hgCxuAin",
    "outputId": "9d23322e-8d1d-4470-eddb-188219a589af"
   },
   "outputs": [
    {
     "name": "stdout",
     "output_type": "stream",
     "text": [
      "Drive already mounted at /content/drive; to attempt to forcibly remount, call drive.mount(\"/content/drive\", force_remount=True).\n"
     ]
    }
   ],
   "source": [
    "import pandas as pd\n",
    "from google.colab import drive\n",
    "drive.mount('/content/drive')"
   ]
  },
  {
   "cell_type": "code",
   "execution_count": 4,
   "metadata": {
    "executionInfo": {
     "elapsed": 467,
     "status": "ok",
     "timestamp": 1678943896359,
     "user": {
      "displayName": "GyeongJun Byeon",
      "userId": "15563492176804444918"
     },
     "user_tz": -540
    },
    "id": "qk8qP3GEuEKF"
   },
   "outputs": [],
   "source": [
    "file_dir = '/content/drive/MyDrive/pythondata/데이터'\n",
    "df = pd.read_csv(file_dir + '/Ashopping.csv', encoding = 'CP949')"
   ]
  },
  {
   "cell_type": "code",
   "execution_count": null,
   "metadata": {
    "id": "ofOzYj-a2saK"
   },
   "outputs": [],
   "source": [
    "pip install pingouin"
   ]
  },
  {
   "cell_type": "code",
   "execution_count": 8,
   "metadata": {
    "colab": {
     "base_uri": "https://localhost:8080/",
     "height": 112
    },
    "executionInfo": {
     "elapsed": 983,
     "status": "ok",
     "timestamp": 1678944357845,
     "user": {
      "displayName": "GyeongJun Byeon",
      "userId": "15563492176804444918"
     },
     "user_tz": -540
    },
    "id": "3oxRti-N2LoU",
    "outputId": "e5566a9d-f569-49d8-ddf1-928c4e0ad5e1"
   },
   "outputs": [
    {
     "data": {
      "text/html": [
       "\n",
       "  <div id=\"df-cf7ab15c-30e3-48aa-a658-3117f52de78b\">\n",
       "    <div class=\"colab-df-container\">\n",
       "      <div>\n",
       "<style scoped>\n",
       "    .dataframe tbody tr th:only-of-type {\n",
       "        vertical-align: middle;\n",
       "    }\n",
       "\n",
       "    .dataframe tbody tr th {\n",
       "        vertical-align: top;\n",
       "    }\n",
       "\n",
       "    .dataframe thead th {\n",
       "        text-align: right;\n",
       "    }\n",
       "</style>\n",
       "<table border=\"1\" class=\"dataframe\">\n",
       "  <thead>\n",
       "    <tr style=\"text-align: right;\">\n",
       "      <th></th>\n",
       "      <th>친절성</th>\n",
       "      <th>신속성</th>\n",
       "      <th>책임성</th>\n",
       "      <th>정확성</th>\n",
       "      <th>전문성</th>\n",
       "    </tr>\n",
       "  </thead>\n",
       "  <tbody>\n",
       "    <tr>\n",
       "      <th>min</th>\n",
       "      <td>3</td>\n",
       "      <td>2</td>\n",
       "      <td>3</td>\n",
       "      <td>3</td>\n",
       "      <td>3</td>\n",
       "    </tr>\n",
       "    <tr>\n",
       "      <th>max</th>\n",
       "      <td>7</td>\n",
       "      <td>7</td>\n",
       "      <td>7</td>\n",
       "      <td>7</td>\n",
       "      <td>7</td>\n",
       "    </tr>\n",
       "  </tbody>\n",
       "</table>\n",
       "</div>\n",
       "      <button class=\"colab-df-convert\" onclick=\"convertToInteractive('df-cf7ab15c-30e3-48aa-a658-3117f52de78b')\"\n",
       "              title=\"Convert this dataframe to an interactive table.\"\n",
       "              style=\"display:none;\">\n",
       "        \n",
       "  <svg xmlns=\"http://www.w3.org/2000/svg\" height=\"24px\"viewBox=\"0 0 24 24\"\n",
       "       width=\"24px\">\n",
       "    <path d=\"M0 0h24v24H0V0z\" fill=\"none\"/>\n",
       "    <path d=\"M18.56 5.44l.94 2.06.94-2.06 2.06-.94-2.06-.94-.94-2.06-.94 2.06-2.06.94zm-11 1L8.5 8.5l.94-2.06 2.06-.94-2.06-.94L8.5 2.5l-.94 2.06-2.06.94zm10 10l.94 2.06.94-2.06 2.06-.94-2.06-.94-.94-2.06-.94 2.06-2.06.94z\"/><path d=\"M17.41 7.96l-1.37-1.37c-.4-.4-.92-.59-1.43-.59-.52 0-1.04.2-1.43.59L10.3 9.45l-7.72 7.72c-.78.78-.78 2.05 0 2.83L4 21.41c.39.39.9.59 1.41.59.51 0 1.02-.2 1.41-.59l7.78-7.78 2.81-2.81c.8-.78.8-2.07 0-2.86zM5.41 20L4 18.59l7.72-7.72 1.47 1.35L5.41 20z\"/>\n",
       "  </svg>\n",
       "      </button>\n",
       "      \n",
       "  <style>\n",
       "    .colab-df-container {\n",
       "      display:flex;\n",
       "      flex-wrap:wrap;\n",
       "      gap: 12px;\n",
       "    }\n",
       "\n",
       "    .colab-df-convert {\n",
       "      background-color: #E8F0FE;\n",
       "      border: none;\n",
       "      border-radius: 50%;\n",
       "      cursor: pointer;\n",
       "      display: none;\n",
       "      fill: #1967D2;\n",
       "      height: 32px;\n",
       "      padding: 0 0 0 0;\n",
       "      width: 32px;\n",
       "    }\n",
       "\n",
       "    .colab-df-convert:hover {\n",
       "      background-color: #E2EBFA;\n",
       "      box-shadow: 0px 1px 2px rgba(60, 64, 67, 0.3), 0px 1px 3px 1px rgba(60, 64, 67, 0.15);\n",
       "      fill: #174EA6;\n",
       "    }\n",
       "\n",
       "    [theme=dark] .colab-df-convert {\n",
       "      background-color: #3B4455;\n",
       "      fill: #D2E3FC;\n",
       "    }\n",
       "\n",
       "    [theme=dark] .colab-df-convert:hover {\n",
       "      background-color: #434B5C;\n",
       "      box-shadow: 0px 1px 3px 1px rgba(0, 0, 0, 0.15);\n",
       "      filter: drop-shadow(0px 1px 2px rgba(0, 0, 0, 0.3));\n",
       "      fill: #FFFFFF;\n",
       "    }\n",
       "  </style>\n",
       "\n",
       "      <script>\n",
       "        const buttonEl =\n",
       "          document.querySelector('#df-cf7ab15c-30e3-48aa-a658-3117f52de78b button.colab-df-convert');\n",
       "        buttonEl.style.display =\n",
       "          google.colab.kernel.accessAllowed ? 'block' : 'none';\n",
       "\n",
       "        async function convertToInteractive(key) {\n",
       "          const element = document.querySelector('#df-cf7ab15c-30e3-48aa-a658-3117f52de78b');\n",
       "          const dataTable =\n",
       "            await google.colab.kernel.invokeFunction('convertToInteractive',\n",
       "                                                     [key], {});\n",
       "          if (!dataTable) return;\n",
       "\n",
       "          const docLinkHtml = 'Like what you see? Visit the ' +\n",
       "            '<a target=\"_blank\" href=https://colab.research.google.com/notebooks/data_table.ipynb>data table notebook</a>'\n",
       "            + ' to learn more about interactive tables.';\n",
       "          element.innerHTML = '';\n",
       "          dataTable['output_type'] = 'display_data';\n",
       "          await google.colab.output.renderOutput(dataTable, element);\n",
       "          const docLink = document.createElement('div');\n",
       "          docLink.innerHTML = docLinkHtml;\n",
       "          element.appendChild(docLink);\n",
       "        }\n",
       "      </script>\n",
       "    </div>\n",
       "  </div>\n",
       "  "
      ],
      "text/plain": [
       "     친절성  신속성  책임성  정확성  전문성\n",
       "min    3    2    3    3    3\n",
       "max    7    7    7    7    7"
      ]
     },
     "execution_count": 8,
     "metadata": {},
     "output_type": "execute_result"
    }
   ],
   "source": [
    "import pingouin as pg\n",
    "\n",
    "X = df[['친절성','신속성','책임성','정확성','전문성']]\n",
    "# 각 측정 별 만족도 min, max 확인\n",
    "X.apply(['min', 'max'])"
   ]
  },
  {
   "cell_type": "code",
   "execution_count": 24,
   "metadata": {
    "colab": {
     "base_uri": "https://localhost:8080/",
     "height": 238
    },
    "executionInfo": {
     "elapsed": 1063,
     "status": "ok",
     "timestamp": 1678945164600,
     "user": {
      "displayName": "GyeongJun Byeon",
      "userId": "15563492176804444918"
     },
     "user_tz": -540
    },
    "id": "kLM8JzaF4qg-",
    "outputId": "675c4fdc-1786-4dba-ae86-c2200bf8ec68"
   },
   "outputs": [
    {
     "data": {
      "text/html": [
       "\n",
       "  <div id=\"df-1a29a4ae-7e40-49e7-a0bc-3a51bc5cecc3\">\n",
       "    <div class=\"colab-df-container\">\n",
       "      <div>\n",
       "<style scoped>\n",
       "    .dataframe tbody tr th:only-of-type {\n",
       "        vertical-align: middle;\n",
       "    }\n",
       "\n",
       "    .dataframe tbody tr th {\n",
       "        vertical-align: top;\n",
       "    }\n",
       "\n",
       "    .dataframe thead th {\n",
       "        text-align: right;\n",
       "    }\n",
       "</style>\n",
       "<table border=\"1\" class=\"dataframe\">\n",
       "  <thead>\n",
       "    <tr style=\"text-align: right;\">\n",
       "      <th></th>\n",
       "      <th>친절성</th>\n",
       "      <th>신속성</th>\n",
       "      <th>책임성</th>\n",
       "      <th>정확성</th>\n",
       "      <th>전문성</th>\n",
       "    </tr>\n",
       "  </thead>\n",
       "  <tbody>\n",
       "    <tr>\n",
       "      <th>2</th>\n",
       "      <td>0.0</td>\n",
       "      <td>15</td>\n",
       "      <td>0.0</td>\n",
       "      <td>0.0</td>\n",
       "      <td>0.0</td>\n",
       "    </tr>\n",
       "    <tr>\n",
       "      <th>3</th>\n",
       "      <td>15.0</td>\n",
       "      <td>20</td>\n",
       "      <td>15.0</td>\n",
       "      <td>10.0</td>\n",
       "      <td>10.0</td>\n",
       "    </tr>\n",
       "    <tr>\n",
       "      <th>4</th>\n",
       "      <td>168.0</td>\n",
       "      <td>105</td>\n",
       "      <td>50.0</td>\n",
       "      <td>75.0</td>\n",
       "      <td>75.0</td>\n",
       "    </tr>\n",
       "    <tr>\n",
       "      <th>5</th>\n",
       "      <td>331.0</td>\n",
       "      <td>358</td>\n",
       "      <td>293.0</td>\n",
       "      <td>350.0</td>\n",
       "      <td>335.0</td>\n",
       "    </tr>\n",
       "    <tr>\n",
       "      <th>6</th>\n",
       "      <td>391.0</td>\n",
       "      <td>387</td>\n",
       "      <td>532.0</td>\n",
       "      <td>489.0</td>\n",
       "      <td>539.0</td>\n",
       "    </tr>\n",
       "    <tr>\n",
       "      <th>7</th>\n",
       "      <td>95.0</td>\n",
       "      <td>115</td>\n",
       "      <td>110.0</td>\n",
       "      <td>76.0</td>\n",
       "      <td>41.0</td>\n",
       "    </tr>\n",
       "  </tbody>\n",
       "</table>\n",
       "</div>\n",
       "      <button class=\"colab-df-convert\" onclick=\"convertToInteractive('df-1a29a4ae-7e40-49e7-a0bc-3a51bc5cecc3')\"\n",
       "              title=\"Convert this dataframe to an interactive table.\"\n",
       "              style=\"display:none;\">\n",
       "        \n",
       "  <svg xmlns=\"http://www.w3.org/2000/svg\" height=\"24px\"viewBox=\"0 0 24 24\"\n",
       "       width=\"24px\">\n",
       "    <path d=\"M0 0h24v24H0V0z\" fill=\"none\"/>\n",
       "    <path d=\"M18.56 5.44l.94 2.06.94-2.06 2.06-.94-2.06-.94-.94-2.06-.94 2.06-2.06.94zm-11 1L8.5 8.5l.94-2.06 2.06-.94-2.06-.94L8.5 2.5l-.94 2.06-2.06.94zm10 10l.94 2.06.94-2.06 2.06-.94-2.06-.94-.94-2.06-.94 2.06-2.06.94z\"/><path d=\"M17.41 7.96l-1.37-1.37c-.4-.4-.92-.59-1.43-.59-.52 0-1.04.2-1.43.59L10.3 9.45l-7.72 7.72c-.78.78-.78 2.05 0 2.83L4 21.41c.39.39.9.59 1.41.59.51 0 1.02-.2 1.41-.59l7.78-7.78 2.81-2.81c.8-.78.8-2.07 0-2.86zM5.41 20L4 18.59l7.72-7.72 1.47 1.35L5.41 20z\"/>\n",
       "  </svg>\n",
       "      </button>\n",
       "      \n",
       "  <style>\n",
       "    .colab-df-container {\n",
       "      display:flex;\n",
       "      flex-wrap:wrap;\n",
       "      gap: 12px;\n",
       "    }\n",
       "\n",
       "    .colab-df-convert {\n",
       "      background-color: #E8F0FE;\n",
       "      border: none;\n",
       "      border-radius: 50%;\n",
       "      cursor: pointer;\n",
       "      display: none;\n",
       "      fill: #1967D2;\n",
       "      height: 32px;\n",
       "      padding: 0 0 0 0;\n",
       "      width: 32px;\n",
       "    }\n",
       "\n",
       "    .colab-df-convert:hover {\n",
       "      background-color: #E2EBFA;\n",
       "      box-shadow: 0px 1px 2px rgba(60, 64, 67, 0.3), 0px 1px 3px 1px rgba(60, 64, 67, 0.15);\n",
       "      fill: #174EA6;\n",
       "    }\n",
       "\n",
       "    [theme=dark] .colab-df-convert {\n",
       "      background-color: #3B4455;\n",
       "      fill: #D2E3FC;\n",
       "    }\n",
       "\n",
       "    [theme=dark] .colab-df-convert:hover {\n",
       "      background-color: #434B5C;\n",
       "      box-shadow: 0px 1px 3px 1px rgba(0, 0, 0, 0.15);\n",
       "      filter: drop-shadow(0px 1px 2px rgba(0, 0, 0, 0.3));\n",
       "      fill: #FFFFFF;\n",
       "    }\n",
       "  </style>\n",
       "\n",
       "      <script>\n",
       "        const buttonEl =\n",
       "          document.querySelector('#df-1a29a4ae-7e40-49e7-a0bc-3a51bc5cecc3 button.colab-df-convert');\n",
       "        buttonEl.style.display =\n",
       "          google.colab.kernel.accessAllowed ? 'block' : 'none';\n",
       "\n",
       "        async function convertToInteractive(key) {\n",
       "          const element = document.querySelector('#df-1a29a4ae-7e40-49e7-a0bc-3a51bc5cecc3');\n",
       "          const dataTable =\n",
       "            await google.colab.kernel.invokeFunction('convertToInteractive',\n",
       "                                                     [key], {});\n",
       "          if (!dataTable) return;\n",
       "\n",
       "          const docLinkHtml = 'Like what you see? Visit the ' +\n",
       "            '<a target=\"_blank\" href=https://colab.research.google.com/notebooks/data_table.ipynb>data table notebook</a>'\n",
       "            + ' to learn more about interactive tables.';\n",
       "          element.innerHTML = '';\n",
       "          dataTable['output_type'] = 'display_data';\n",
       "          await google.colab.output.renderOutput(dataTable, element);\n",
       "          const docLink = document.createElement('div');\n",
       "          docLink.innerHTML = docLinkHtml;\n",
       "          element.appendChild(docLink);\n",
       "        }\n",
       "      </script>\n",
       "    </div>\n",
       "  </div>\n",
       "  "
      ],
      "text/plain": [
       "     친절성  신속성    책임성    정확성    전문성\n",
       "2    0.0   15    0.0    0.0    0.0\n",
       "3   15.0   20   15.0   10.0   10.0\n",
       "4  168.0  105   50.0   75.0   75.0\n",
       "5  331.0  358  293.0  350.0  335.0\n",
       "6  391.0  387  532.0  489.0  539.0\n",
       "7   95.0  115  110.0   76.0   41.0"
      ]
     },
     "execution_count": 24,
     "metadata": {},
     "output_type": "execute_result"
    }
   ],
   "source": [
    "X_df = X.apply(pd.Series.value_counts)\n",
    "X_df = X_df.fillna(0)\n",
    "X_df"
   ]
  },
  {
   "cell_type": "code",
   "execution_count": 27,
   "metadata": {
    "colab": {
     "base_uri": "https://localhost:8080/"
    },
    "executionInfo": {
     "elapsed": 462,
     "status": "ok",
     "timestamp": 1678945279749,
     "user": {
      "displayName": "GyeongJun Byeon",
      "userId": "15563492176804444918"
     },
     "user_tz": -540
    },
    "id": "STsc-h_U4WzR",
    "outputId": "b7ecaa07-038d-48fe-efe2-cf8c68130cd4"
   },
   "outputs": [
    {
     "name": "stdout",
     "output_type": "stream",
     "text": [
      "Cronbach's alpha: 0.8117\n",
      "95% confidence interval: [0.793 0.83 ]\n"
     ]
    }
   ],
   "source": [
    "cr_alpha, confi_itv = pg.cronbach_alpha(data = X)\n",
    "print(\"Cronbach's alpha: {:.4f}\".format(cr_alpha))\n",
    "print(\"95% confidence interval: {:}\".format(confi_itv))"
   ]
  },
  {
   "cell_type": "code",
   "execution_count": 89,
   "metadata": {
    "colab": {
     "base_uri": "https://localhost:8080/"
    },
    "executionInfo": {
     "elapsed": 763,
     "status": "ok",
     "timestamp": 1678946996626,
     "user": {
      "displayName": "GyeongJun Byeon",
      "userId": "15563492176804444918"
     },
     "user_tz": -540
    },
    "id": "6XoQl9-Q8mGU",
    "outputId": "4bbede27-54b4-43cf-d90a-dbdb7610582f"
   },
   "outputs": [
    {
     "name": "stdout",
     "output_type": "stream",
     "text": [
      "('친절성', '신속성', '책임성', '정확성')열의 크론바흐 알파: 0.7341\n",
      "('친절성', '신속성', '책임성', '전문성')열의 크론바흐 알파: 0.7713\n",
      "('친절성', '신속성', '정확성', '전문성')열의 크론바흐 알파: 0.7812\n",
      "('친절성', '책임성', '정확성', '전문성')열의 크론바흐 알파: 0.7836\n",
      "('신속성', '책임성', '정확성', '전문성')열의 크론바흐 알파: 0.8058\n"
     ]
    }
   ],
   "source": [
    "from itertools import *\n",
    "for i in list(combinations(X.columns, 4)):\n",
    "    print('{:}열의 크론바흐 알파: {:.4f}'.format(i,pg.cronbach_alpha(X[[j for j in i]])[0]))"
   ]
  },
  {
   "cell_type": "markdown",
   "metadata": {
    "id": "br9CzixOCqQd"
   },
   "source": [
    "만족도 조사의 크론바흐 알파가 0.6이상이므로 귀무가설을 채택한다. 즉, 측정항목을 기준으로 진행한 직원들의 만족도 조사의 신뢰성은 매우 높은 것으로 확인되었다. 또한 각 항목을 하나씩 제외하고 계산한 크론바흐 알파계수가 기존 계수와 비교하였을 때 더 낮아지는 것으로 보아, 모든 측정항목을 사용하는 것이 가장 적절한 직원 만족도 평가임을 알 수 있다."
   ]
  }
 ],
 "metadata": {
  "colab": {
   "authorship_tag": "ABX9TyOmPEAGxf62qdF7ddA97J8V",
   "provenance": []
  },
  "kernelspec": {
   "display_name": "Python 3 (ipykernel)",
   "language": "python",
   "name": "python3"
  },
  "language_info": {
   "codemirror_mode": {
    "name": "ipython",
    "version": 3
   },
   "file_extension": ".py",
   "mimetype": "text/x-python",
   "name": "python",
   "nbconvert_exporter": "python",
   "pygments_lexer": "ipython3",
   "version": "3.9.13"
  }
 },
 "nbformat": 4,
 "nbformat_minor": 1
}
