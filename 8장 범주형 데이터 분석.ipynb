{
 "cells": [
  {
   "cell_type": "markdown",
   "metadata": {
    "id": "lJY4yM6HqXx5"
   },
   "source": [
    "# 8장 범주형 데이터 분석\n",
    "* 범주형 데이터를 분석하기 위해 카이제곱 검정(Chi Squared Test)에 대해 알아본다.\n",
    "* 카이제곱 검정: 카이제곱 분포에 기초한 통계분석 방법으로 관측된 빈도가 기대되는 빈도와 통계적으로 유의미하게 다른지 검정하는 방법으로 비율감정이라도 불린다.\n",
    "<br/>\n",
    "<br/>\n",
    "\n",
    "| 카이제곱 검정   종류 |                           목적                          |\n",
    "|:--------------------:|:-------------------------------------------------------:|\n",
    "| 적합도 검정          | 관찰된 비율 값과 기댓값이 같은지 확인  |\n",
    "| 독립성 검정          | 두 범주형 변수 사이의 연관성 확인                       |\n",
    "| 동질성 검정          | 두 모집단으로부터 생성된 표본 집단의 분포가 같은지 확인 |\n",
    "<표: 카이제곱 검정 종류>\n",
    "\n",
    "<br/>\n",
    "<br/>\n",
    "\n",
    "\n",
    "#### 8.1 적합도 검정\n",
    "\n",
    "(1) 개념\n",
    "\n",
    "* 적합도 검정은 귀무가설에서 제시한 각 범주의 비율이 실제 자료에 적합한지를 알아본는 검정 방법이다.\n",
    "* 데이터가 여러 개의 범주에 대한 관측도수 형태로 주어지는 문제를 다룰 때 사용.\n",
    "* 범주형 변수 $X$에 대해서, 각 빈도와 비율이 주어졌을 때 빈도교차표는 다음과 같다.\n",
    "\n",
    "| $X$   | $\\mathbb{P}$ ( $X$ = $x$ )  | 관측도수($O$) | 기대도수($E$) |\n",
    "|:------:|:---------------------:|:------:|:--------:|\n",
    "| $x_{1}$   | $p_{1}$                  | $n_{1}$   |  $np_{1}$  |\n",
    "| $x_{2}$   | $p_{2}$                  | $n_{2}$   |$np_{2}$|\n",
    "| $\\vdots$   |    $\\vdots$          |$\\vdots$|$\\vdots$|\n",
    "| $x_{k}$   | $p_{k}$                  | $n_{k}$   |$np_{k}$|\n",
    "| 합계 | 1                   | $n$    |    $n$    |\n",
    "\n",
    "\n",
    "* 범주별로 관측도수와 기대도수가 있으므로, 카이제곱 통계량을 계산할 수 있다.\n",
    "\\begin{align*}\n",
    "    \\chi_{obs}^{2} = \\sum_{i=1}^{k}\\frac{(O_{i} - E_{i})^{2}}{E_{i}}\\\\\n",
    "    where \\quad E_{i} = np_{i},\\quad O_{i} = n_{i}\n",
    "\\end{align*}\n",
    "만약, $\\chi_{obs}^{2} > \\chi_{(k-1,\\alpha)}^{2}$면 귀무가설 기각한다.(이때 $k-1$는 자유도, $\\alpha$는 유의수준) \n",
    "\n",
    "*  관측도수와 기대도수의 차이가 크지 않다면 귀무가설에서율제시한 비율과 실제 비율이 서로 크게 다르지 않다는 것이다. \n",
    "*  관측도수와 기대도수의 차이가 크다면 귀무가설에서 제시한 비율과 실제 비율의 차가 달라 귀무가설에서 제시한 비율은 적합하지 않다.\n",
    "\n",
    "(2) 예시\n",
    "* A쇼핑은 클레임 고객들의 구매 패턴이 어떻게 다른지 파악하고자 클레임 고객들의 구매유형 별 적합도 검정을 시행하고자 한다.\n",
    "\n",
    "* 기존 클레임 고객 구매별 정리\n",
    "\n",
    "| 구매유형 | 구분 | 비율 |\n",
    "|----------|------|------|\n",
    "| 1회성    | 1    | 10%  |\n",
    "| 실용적   | 2    | 30%  |\n",
    "| 명품     | 3    | 20%  |\n",
    "| 집중     | 4    | 40%  |\n",
    "\n",
    "클레임 접수  無 =0, 有 = 1\n",
    "<br/>\n",
    "\\begin{align}\n",
    "    H_{0}(\\text{귀무가설}) &= \\text{클레임 접수 고객의 구매유형별 비율은 기존과 같다.}\\\\\n",
    "    H_{1}(\\text{연구가설}) &= \\text{클레임 접수 고객의 구매유형별 비율은 기존과 같지 않다.} \n",
    "\\end{align}\n",
    "<br/>"
   ]
  },
  {
   "cell_type": "code",
   "execution_count": null,
   "metadata": {
    "colab": {
     "base_uri": "https://localhost:8080/"
    },
    "executionInfo": {
     "elapsed": 3299,
     "status": "ok",
     "timestamp": 1678845269972,
     "user": {
      "displayName": "GyeongJun Byeon",
      "userId": "15563492176804444918"
     },
     "user_tz": -540
    },
    "id": "P_kTJ1CJqLyy",
    "outputId": "7e689742-0f1d-4d40-8ffe-a4b5fb70e8fc"
   },
   "outputs": [
    {
     "name": "stdout",
     "output_type": "stream",
     "text": [
      "Drive already mounted at /content/drive; to attempt to forcibly remount, call drive.mount(\"/content/drive\", force_remount=True).\n"
     ]
    }
   ],
   "source": [
    "import pandas as pd\n",
    "from google.colab import drive\n",
    "drive.mount('/content/drive')"
   ]
  },
  {
   "cell_type": "code",
   "execution_count": null,
   "metadata": {
    "id": "3KuAtyYZqNCu"
   },
   "outputs": [],
   "source": [
    "file_dir = '/content/drive/MyDrive/pythondata/데이터'\n",
    "df = pd.read_csv(file_dir + '/Ashopping.csv', encoding = 'CP949')"
   ]
  },
  {
   "cell_type": "code",
   "execution_count": null,
   "metadata": {
    "colab": {
     "base_uri": "https://localhost:8080/"
    },
    "executionInfo": {
     "elapsed": 7,
     "status": "ok",
     "timestamp": 1678845269974,
     "user": {
      "displayName": "GyeongJun Byeon",
      "userId": "15563492176804444918"
     },
     "user_tz": -540
    },
    "id": "pPmjY4dDxn2b",
    "outputId": "1692f02d-8a2d-433e-ead5-6e648acf78e4"
   },
   "outputs": [
    {
     "name": "stdout",
     "output_type": "stream",
     "text": [
      "<class 'pandas.core.frame.DataFrame'>\n",
      "RangeIndex: 1000 entries, 0 to 999\n",
      "Data columns (total 39 columns):\n",
      " #   Column            Non-Null Count  Dtype  \n",
      "---  ------            --------------  -----  \n",
      " 0   고객ID              1000 non-null   int64  \n",
      " 1   이탈여부              1000 non-null   int64  \n",
      " 2   총_매출액             1000 non-null   int64  \n",
      " 3   방문빈도              1000 non-null   int64  \n",
      " 4   1회_평균매출액          1000 non-null   int64  \n",
      " 5   할인권_사용 횟수         1000 non-null   int64  \n",
      " 6   총_할인_금액           1000 non-null   int64  \n",
      " 7   고객등급              1000 non-null   int64  \n",
      " 8   구매유형              1000 non-null   int64  \n",
      " 9   클레임접수여부           1000 non-null   int64  \n",
      " 10  구매_카테고리_수         1000 non-null   int64  \n",
      " 11  거주지역              1000 non-null   int64  \n",
      " 12  성별                1000 non-null   int64  \n",
      " 13  고객_나이대            1000 non-null   int64  \n",
      " 14  거래기간              1000 non-null   int64  \n",
      " 15  할인민감여부            1000 non-null   int64  \n",
      " 16  멤버쉽_프로그램_가입전_만족도  1000 non-null   int64  \n",
      " 17  멤버쉽_프로그램_가입후_만족도  1000 non-null   int64  \n",
      " 18  Recency           1000 non-null   int64  \n",
      " 19  Frequency         1000 non-null   int64  \n",
      " 20  Monetary          1000 non-null   int64  \n",
      " 21  상품_만족도            1000 non-null   int64  \n",
      " 22  매장_만족도            1000 non-null   int64  \n",
      " 23  서비스_만족도           1000 non-null   int64  \n",
      " 24  상품_품질             1000 non-null   int64  \n",
      " 25  상품_다양성            1000 non-null   int64  \n",
      " 26  가격_적절성            1000 non-null   int64  \n",
      " 27  상품_진열_위치          934 non-null    float64\n",
      " 28  상품_설명_표시          862 non-null    float64\n",
      " 29  매장_청결성            1000 non-null   int64  \n",
      " 30  공간_편의성            1000 non-null   int64  \n",
      " 31  시야_확보성            1000 non-null   int64  \n",
      " 32  음향_적절성            1000 non-null   int64  \n",
      " 33  안내_표지판_설명         1000 non-null   int64  \n",
      " 34  친절성               1000 non-null   int64  \n",
      " 35  신속성               1000 non-null   int64  \n",
      " 36  책임성               1000 non-null   int64  \n",
      " 37  정확성               1000 non-null   int64  \n",
      " 38  전문성               1000 non-null   int64  \n",
      "dtypes: float64(2), int64(37)\n",
      "memory usage: 304.8 KB\n"
     ]
    }
   ],
   "source": [
    "df.info() # 클레임접수여부 열과 구매유형 열을 이용할 것"
   ]
  },
  {
   "cell_type": "code",
   "execution_count": null,
   "metadata": {
    "colab": {
     "base_uri": "https://localhost:8080/",
     "height": 364
    },
    "executionInfo": {
     "elapsed": 1431,
     "status": "ok",
     "timestamp": 1678845271400,
     "user": {
      "displayName": "GyeongJun Byeon",
      "userId": "15563492176804444918"
     },
     "user_tz": -540
    },
    "id": "ORfIuRJdxMzL",
    "outputId": "2c378287-489c-4096-9c14-24d6d59b8f93"
   },
   "outputs": [
    {
     "name": "stdout",
     "output_type": "stream",
     "text": [
      "클레임접수여부   \n",
      "0        4    263\n",
      "         2    197\n",
      "         3     57\n",
      "         1     24\n",
      "1        4    233\n",
      "         2    120\n",
      "         3     87\n",
      "         1     19\n",
      "Name: 구매유형, dtype: int64\n"
     ]
    },
    {
     "data": {
      "text/html": [
       "\n",
       "  <div id=\"df-0dc0a878-cbec-43ee-8d1e-23720dd3dbb3\">\n",
       "    <div class=\"colab-df-container\">\n",
       "      <div>\n",
       "<style scoped>\n",
       "    .dataframe tbody tr th:only-of-type {\n",
       "        vertical-align: middle;\n",
       "    }\n",
       "\n",
       "    .dataframe tbody tr th {\n",
       "        vertical-align: top;\n",
       "    }\n",
       "\n",
       "    .dataframe thead th {\n",
       "        text-align: right;\n",
       "    }\n",
       "</style>\n",
       "<table border=\"1\" class=\"dataframe\">\n",
       "  <thead>\n",
       "    <tr style=\"text-align: right;\">\n",
       "      <th>구매유형</th>\n",
       "      <th>1</th>\n",
       "      <th>2</th>\n",
       "      <th>3</th>\n",
       "      <th>4</th>\n",
       "      <th>All</th>\n",
       "    </tr>\n",
       "    <tr>\n",
       "      <th>클레임접수여부</th>\n",
       "      <th></th>\n",
       "      <th></th>\n",
       "      <th></th>\n",
       "      <th></th>\n",
       "      <th></th>\n",
       "    </tr>\n",
       "  </thead>\n",
       "  <tbody>\n",
       "    <tr>\n",
       "      <th>0</th>\n",
       "      <td>24</td>\n",
       "      <td>197</td>\n",
       "      <td>57</td>\n",
       "      <td>263</td>\n",
       "      <td>541</td>\n",
       "    </tr>\n",
       "    <tr>\n",
       "      <th>1</th>\n",
       "      <td>19</td>\n",
       "      <td>120</td>\n",
       "      <td>87</td>\n",
       "      <td>233</td>\n",
       "      <td>459</td>\n",
       "    </tr>\n",
       "    <tr>\n",
       "      <th>All</th>\n",
       "      <td>43</td>\n",
       "      <td>317</td>\n",
       "      <td>144</td>\n",
       "      <td>496</td>\n",
       "      <td>1000</td>\n",
       "    </tr>\n",
       "  </tbody>\n",
       "</table>\n",
       "</div>\n",
       "      <button class=\"colab-df-convert\" onclick=\"convertToInteractive('df-0dc0a878-cbec-43ee-8d1e-23720dd3dbb3')\"\n",
       "              title=\"Convert this dataframe to an interactive table.\"\n",
       "              style=\"display:none;\">\n",
       "        \n",
       "  <svg xmlns=\"http://www.w3.org/2000/svg\" height=\"24px\"viewBox=\"0 0 24 24\"\n",
       "       width=\"24px\">\n",
       "    <path d=\"M0 0h24v24H0V0z\" fill=\"none\"/>\n",
       "    <path d=\"M18.56 5.44l.94 2.06.94-2.06 2.06-.94-2.06-.94-.94-2.06-.94 2.06-2.06.94zm-11 1L8.5 8.5l.94-2.06 2.06-.94-2.06-.94L8.5 2.5l-.94 2.06-2.06.94zm10 10l.94 2.06.94-2.06 2.06-.94-2.06-.94-.94-2.06-.94 2.06-2.06.94z\"/><path d=\"M17.41 7.96l-1.37-1.37c-.4-.4-.92-.59-1.43-.59-.52 0-1.04.2-1.43.59L10.3 9.45l-7.72 7.72c-.78.78-.78 2.05 0 2.83L4 21.41c.39.39.9.59 1.41.59.51 0 1.02-.2 1.41-.59l7.78-7.78 2.81-2.81c.8-.78.8-2.07 0-2.86zM5.41 20L4 18.59l7.72-7.72 1.47 1.35L5.41 20z\"/>\n",
       "  </svg>\n",
       "      </button>\n",
       "      \n",
       "  <style>\n",
       "    .colab-df-container {\n",
       "      display:flex;\n",
       "      flex-wrap:wrap;\n",
       "      gap: 12px;\n",
       "    }\n",
       "\n",
       "    .colab-df-convert {\n",
       "      background-color: #E8F0FE;\n",
       "      border: none;\n",
       "      border-radius: 50%;\n",
       "      cursor: pointer;\n",
       "      display: none;\n",
       "      fill: #1967D2;\n",
       "      height: 32px;\n",
       "      padding: 0 0 0 0;\n",
       "      width: 32px;\n",
       "    }\n",
       "\n",
       "    .colab-df-convert:hover {\n",
       "      background-color: #E2EBFA;\n",
       "      box-shadow: 0px 1px 2px rgba(60, 64, 67, 0.3), 0px 1px 3px 1px rgba(60, 64, 67, 0.15);\n",
       "      fill: #174EA6;\n",
       "    }\n",
       "\n",
       "    [theme=dark] .colab-df-convert {\n",
       "      background-color: #3B4455;\n",
       "      fill: #D2E3FC;\n",
       "    }\n",
       "\n",
       "    [theme=dark] .colab-df-convert:hover {\n",
       "      background-color: #434B5C;\n",
       "      box-shadow: 0px 1px 3px 1px rgba(0, 0, 0, 0.15);\n",
       "      filter: drop-shadow(0px 1px 2px rgba(0, 0, 0, 0.3));\n",
       "      fill: #FFFFFF;\n",
       "    }\n",
       "  </style>\n",
       "\n",
       "      <script>\n",
       "        const buttonEl =\n",
       "          document.querySelector('#df-0dc0a878-cbec-43ee-8d1e-23720dd3dbb3 button.colab-df-convert');\n",
       "        buttonEl.style.display =\n",
       "          google.colab.kernel.accessAllowed ? 'block' : 'none';\n",
       "\n",
       "        async function convertToInteractive(key) {\n",
       "          const element = document.querySelector('#df-0dc0a878-cbec-43ee-8d1e-23720dd3dbb3');\n",
       "          const dataTable =\n",
       "            await google.colab.kernel.invokeFunction('convertToInteractive',\n",
       "                                                     [key], {});\n",
       "          if (!dataTable) return;\n",
       "\n",
       "          const docLinkHtml = 'Like what you see? Visit the ' +\n",
       "            '<a target=\"_blank\" href=https://colab.research.google.com/notebooks/data_table.ipynb>data table notebook</a>'\n",
       "            + ' to learn more about interactive tables.';\n",
       "          element.innerHTML = '';\n",
       "          dataTable['output_type'] = 'display_data';\n",
       "          await google.colab.output.renderOutput(dataTable, element);\n",
       "          const docLink = document.createElement('div');\n",
       "          docLink.innerHTML = docLinkHtml;\n",
       "          element.appendChild(docLink);\n",
       "        }\n",
       "      </script>\n",
       "    </div>\n",
       "  </div>\n",
       "  "
      ],
      "text/plain": [
       "구매유형      1    2    3    4   All\n",
       "클레임접수여부                         \n",
       "0        24  197   57  263   541\n",
       "1        19  120   87  233   459\n",
       "All      43  317  144  496  1000"
      ]
     },
     "execution_count": 5,
     "metadata": {},
     "output_type": "execute_result"
    }
   ],
   "source": [
    "import numpy as np\n",
    "from scipy import stats\n",
    "import matplotlib.pyplot as plt\n",
    "print(df.groupby('클레임접수여부')['구매유형'].apply(lambda x: x.value_counts()))\n",
    "# pandas의 crosstab을 이용하여 빈도교차표를 만든다. margins가 True면 합계를 보여준다.\n",
    "crs_tb = pd.crosstab(df.클레임접수여부, df.구매유형, margins = True)\n",
    "crs_tb"
   ]
  },
  {
   "cell_type": "code",
   "execution_count": null,
   "metadata": {
    "colab": {
     "base_uri": "https://localhost:8080/",
     "height": 294
    },
    "executionInfo": {
     "elapsed": 671,
     "status": "ok",
     "timestamp": 1678845438858,
     "user": {
      "displayName": "GyeongJun Byeon",
      "userId": "15563492176804444918"
     },
     "user_tz": -540
    },
    "id": "UbkxljyQ7dnH",
    "outputId": "7335790f-4a52-45d9-ce54-809be30c6ff2"
   },
   "outputs": [
    {
     "data": {
      "image/png": "[encoded data removed]",
      "text/plain": [
       "<Figure size 432x288 with 1 Axes>"
      ]
     },
     "metadata": {
      "needs_background": "light"
     },
     "output_type": "display_data"
    }
   ],
   "source": [
    "import matplotlib\n",
    "matplotlib.rcParams['font.family'] = 'NanumBarunGothic'\n",
    "matplotlib.rcParams['axes.unicode_minus'] = False\n",
    "\n",
    "plt.hist(df[df['클레임접수여부']== 1]['구매유형'])\n",
    "x = df[df['클레임접수여부']== 1]['구매유형'].value_counts().index\n",
    "y = df[df['클레임접수여부']== 1]['구매유형'].value_counts()\n",
    "\n",
    "plt.bar(x,y)\n",
    "for i, v in enumerate(x):\n",
    "    plt.text(v, y.iloc[i], y.iloc[i],                 \n",
    "             fontsize = 9, \n",
    "             color='black',\n",
    "             horizontalalignment='center',  \n",
    "             verticalalignment='bottom')    \n",
    "plt.title('구매유형별 클레임 고객 빈도')\n",
    "plt.xticks([1, 2 , 3, 4], labels=['1회성','실용적','명품','집중'])\n",
    "plt.xlabel('구분')\n",
    "plt.ylabel('Count')\n",
    "plt.show()"
   ]
  },
  {
   "cell_type": "code",
   "execution_count": null,
   "metadata": {
    "id": "aBMa6IDSzTM9"
   },
   "outputs": [],
   "source": [
    "# 클레임 접수 경험 고객 별 빈도\n",
    "obs = crs_tb.values[1,:4]\n",
    "prb = np.array([0.1,0.3,0.2,0.4])\n",
    "# 기댓값을 계산하기 위해 total num select\n",
    "n = crs_tb.values[1,4]\n",
    "E = n*prb"
   ]
  },
  {
   "cell_type": "code",
   "execution_count": null,
   "metadata": {
    "colab": {
     "base_uri": "https://localhost:8080/"
    },
    "executionInfo": {
     "elapsed": 10,
     "status": "ok",
     "timestamp": 1678845271952,
     "user": {
      "displayName": "GyeongJun Byeon",
      "userId": "15563492176804444918"
     },
     "user_tz": -540
    },
    "id": "Z2E5B_Q00eVY",
    "outputId": "a06b13b4-ae0f-4359-a58d-1ae050e8a92b"
   },
   "outputs": [
    {
     "name": "stdout",
     "output_type": "stream",
     "text": [
      "Chi-Square score : 31.5828\n",
      "Chi-Square p_value : 0.0000\n"
     ]
    }
   ],
   "source": [
    "chi_stat, chi_p = stats.chisquare(obs, E)\n",
    "print('Chi-Square score : {:.4f}'.format(chi_stat))\n",
    "print('Chi-Square p_value : {:.4f}'.format(chi_p))"
   ]
  },
  {
   "cell_type": "markdown",
   "metadata": {
    "id": "73cE46AW02wX"
   },
   "source": [
    "카이제곱 검증의 p_value가 0.01 이하(유의수준 99%)이므로 귀무가설을 기각한다. 즉, 클레임 접수 고객의 구매유형별 비율은 기존과 다르다. 그렇다면 실제 비율은 어떻게 나올까?"
   ]
  },
  {
   "cell_type": "code",
   "execution_count": null,
   "metadata": {
    "colab": {
     "base_uri": "https://localhost:8080/"
    },
    "executionInfo": {
     "elapsed": 9,
     "status": "ok",
     "timestamp": 1678845271952,
     "user": {
      "displayName": "GyeongJun Byeon",
      "userId": "15563492176804444918"
     },
     "user_tz": -540
    },
    "id": "LJt6gtTZ1Ykv",
    "outputId": "96bc9399-0325-4d5f-d3a6-6b28b607aa1d"
   },
   "outputs": [
    {
     "data": {
      "text/plain": [
       "[0.04, 0.26, 0.19, 0.51]"
      ]
     },
     "execution_count": 9,
     "metadata": {},
     "output_type": "execute_result"
    }
   ],
   "source": [
    "total_num = obs.sum()\n",
    "R_prb = [round(i/total_num,2) for i in obs]\n",
    "R_prb"
   ]
  },
  {
   "cell_type": "markdown",
   "metadata": {
    "id": "o42AVy_12bMI"
   },
   "source": [
    "클레임 접수 고객 집중 구매형의 유형이 약 50% 이상으로 기댓값(40%)보다 높게 측정된다. 따라서 집중 구매형 고객들에 집중하여 클레임 수를 줄여야한다."
   ]
  },
  {
   "cell_type": "markdown",
   "metadata": {
    "id": "DOdiEVLA3BxI"
   },
   "source": [
    "#### 8.2 독립성 검정\n",
    "(1) 개념\n",
    "\n",
    "* 독립성 검정: 두 개의 범주형 변수간에 연관성의 유,무를 카이제곱 검정을 통해 판단한다.\n",
    "\n",
    "|                     | $B_{1}$  | $B_{2}$  | 행 빈도합 |\n",
    "|---------------------------------|-----|-----|-----------|\n",
    "| $A_{1}$                              | $O_{11}$ | $O_{12}$ | $O_{1+}$       |\n",
    "| $A_{2}$                              | $O_{21}$ | $O_{22}$ | $O_{2+}$       |\n",
    "| 열 빈도합                       | $O_{+1}$ | $O_{+2}$ | $O_{++}$       |\n",
    "\n",
    "* 2개의 변수 A, B를 통해 빈도교차표를 제작한다. 이때 $O_{ij}$는 $A_{i}$ 변수와 $B_{j}$ 변수에 해당하는 관측치이고, 각 행/열의 빈도합은\n",
    "\\begin{align}\n",
    "&O_{i+} = \\sum_{j=1}^{l} O_{ij},\\\\\n",
    "&O_{+j} = \\sum_{i=1}^{k} O_{ij},\\\\\n",
    "&O_{++} = \\sum_{i=1}^{k}\\sum_{j=1}^{l} O_{ij}\n",
    "\\end{align}이다. 독립성 검정에서 기대도수는 행 빈도합과 열 빈도합의 곱을 전체 빈도수로 나눈 값이다. 즉 \n",
    "\\begin{align}\n",
    "    E_{ij} = \\frac{O_{i+}\\cdot O_{+j}}{O_{++}}\n",
    "\\end{align}\n",
    "* 빈도교차표를 이용하여 기대도수 빈도교차표를 만들 수 있다.\n",
    "\n",
    "|                     | $B_{1}$  | $B_{2}$  | 행 빈도합 |\n",
    "|---------------------------------|-----|-----|-----------|\n",
    "| $A_{1}$                              | $E_{11}$ | $E_{12}$ | $O_{1+}$       |\n",
    "| $A_{2}$                              | $E_{21}$ | $E_{22}$ | $O_{2+}$       |\n",
    "| 열 빈도합                       | $O_{+1}$ | $O_{+2}$ | $O_{++}$       |\n",
    "\n",
    "* 범주별로 관측도수와 기대도수가 있으므로, 카이제곱 통계량을 계산할 수 있다.\n",
    "\\begin{align*}\n",
    "    \\chi_{obs}^{2} = \\sum_{j=1}^{l}\\sum_{i=1}^{k}\\frac{(O_{ij} - E_{ij})^{2}}{E_{ij}}\n",
    "\\end{align*}\n",
    "만약, $\\chi_{obs}^{2} > \\chi_{(k-1)(l-1);\\alpha}^{2}$면 귀무가설 기각한다.(이때 $(k-1)(l-1)$는 자유도, $\\alpha$는 유의수준)\n",
    "\n",
    "(2) 예시\n",
    "* A쇼핑은 클레임을 제기하는 고객들이 성별과 무관하지 않을 것이라고 본다. 그것을 증명하기 위해 클레임 접수 여부와 성별간의 독립성 검정을 실행한다.\n",
    "\n",
    "성별 남 = 0, 여 = 1\n",
    "\n",
    "클레임 접수  無 =0, 有 = 1\n",
    "<br/>\n",
    "\\begin{align}\n",
    "    H_{0}(\\text{귀무가설}) &= \\text{클레임 접수 여부는 성별과 상관 없다.}\\\\\n",
    "    H_{1}(\\text{연구가설}) &= \\text{클레임 접수 여부는 성별과 상관 있다.} \n",
    "\\end{align}\n",
    "<br/>"
   ]
  },
  {
   "cell_type": "code",
   "execution_count": null,
   "metadata": {
    "colab": {
     "base_uri": "https://localhost:8080/"
    },
    "executionInfo": {
     "elapsed": 394,
     "status": "ok",
     "timestamp": 1678851646745,
     "user": {
      "displayName": "GyeongJun Byeon",
      "userId": "15563492176804444918"
     },
     "user_tz": -540
    },
    "id": "SGeT1FykWw9n",
    "outputId": "97c58aac-39f4-4aa8-9ee9-c086702941c3"
   },
   "outputs": [
    {
     "name": "stdout",
     "output_type": "stream",
     "text": [
      "<class 'pandas.core.frame.DataFrame'>\n",
      "RangeIndex: 1000 entries, 0 to 999\n",
      "Data columns (total 39 columns):\n",
      " #   Column            Non-Null Count  Dtype  \n",
      "---  ------            --------------  -----  \n",
      " 0   고객ID              1000 non-null   int64  \n",
      " 1   이탈여부              1000 non-null   int64  \n",
      " 2   총_매출액             1000 non-null   int64  \n",
      " 3   방문빈도              1000 non-null   int64  \n",
      " 4   1회_평균매출액          1000 non-null   int64  \n",
      " 5   할인권_사용 횟수         1000 non-null   int64  \n",
      " 6   총_할인_금액           1000 non-null   int64  \n",
      " 7   고객등급              1000 non-null   int64  \n",
      " 8   구매유형              1000 non-null   int64  \n",
      " 9   클레임접수여부           1000 non-null   int64  \n",
      " 10  구매_카테고리_수         1000 non-null   int64  \n",
      " 11  거주지역              1000 non-null   int64  \n",
      " 12  성별                1000 non-null   int64  \n",
      " 13  고객_나이대            1000 non-null   int64  \n",
      " 14  거래기간              1000 non-null   int64  \n",
      " 15  할인민감여부            1000 non-null   int64  \n",
      " 16  멤버쉽_프로그램_가입전_만족도  1000 non-null   int64  \n",
      " 17  멤버쉽_프로그램_가입후_만족도  1000 non-null   int64  \n",
      " 18  Recency           1000 non-null   int64  \n",
      " 19  Frequency         1000 non-null   int64  \n",
      " 20  Monetary          1000 non-null   int64  \n",
      " 21  상품_만족도            1000 non-null   int64  \n",
      " 22  매장_만족도            1000 non-null   int64  \n",
      " 23  서비스_만족도           1000 non-null   int64  \n",
      " 24  상품_품질             1000 non-null   int64  \n",
      " 25  상품_다양성            1000 non-null   int64  \n",
      " 26  가격_적절성            1000 non-null   int64  \n",
      " 27  상품_진열_위치          934 non-null    float64\n",
      " 28  상품_설명_표시          862 non-null    float64\n",
      " 29  매장_청결성            1000 non-null   int64  \n",
      " 30  공간_편의성            1000 non-null   int64  \n",
      " 31  시야_확보성            1000 non-null   int64  \n",
      " 32  음향_적절성            1000 non-null   int64  \n",
      " 33  안내_표지판_설명         1000 non-null   int64  \n",
      " 34  친절성               1000 non-null   int64  \n",
      " 35  신속성               1000 non-null   int64  \n",
      " 36  책임성               1000 non-null   int64  \n",
      " 37  정확성               1000 non-null   int64  \n",
      " 38  전문성               1000 non-null   int64  \n",
      "dtypes: float64(2), int64(37)\n",
      "memory usage: 304.8 KB\n"
     ]
    }
   ],
   "source": [
    "df.info()"
   ]
  },
  {
   "cell_type": "code",
   "execution_count": 78,
   "metadata": {
    "colab": {
     "base_uri": "https://localhost:8080/"
    },
    "executionInfo": {
     "elapsed": 335,
     "status": "ok",
     "timestamp": 1678860728654,
     "user": {
      "displayName": "GyeongJun Byeon",
      "userId": "15563492176804444918"
     },
     "user_tz": -540
    },
    "id": "qbyYMt8XWrbR",
    "outputId": "46bb43ff-04b1-4679-ba8f-371d317a8749"
   },
   "outputs": [
    {
     "name": "stdout",
     "output_type": "stream",
     "text": [
      "클레임 X    541\n",
      "클레임 O    459\n",
      "dtype: int64\n",
      "남    149\n",
      "녀    851\n",
      "dtype: int64\n",
      "1000\n",
      "Cross table : \n",
      "         남    녀\n",
      "클레임 X  139  402\n",
      "클레임 O   10  449\n"
     ]
    }
   ],
   "source": [
    "X = pd.crosstab(df.클레임접수여부, df.성별, margins = False)\n",
    "X.columns = ['남','녀']\n",
    "X.index = ['클레임 X', '클레임 O']\n",
    "col_sum = X.sum(axis = 'columns')\n",
    "row_sum = X.sum(axis = 'rows')\n",
    "tot = df.shape[0]\n",
    "print(col_sum)\n",
    "print(row_sum)\n",
    "print(tot)\n",
    "print('Cross table : \\n{:}'.format(X))"
   ]
  },
  {
   "cell_type": "markdown",
   "metadata": {
    "id": "9pcgeSWVyLkU"
   },
   "source": [
    "성별로 표본의 수에 대한 비율은 다음과 같다. \n",
    "\\begin{align}\n",
    "    (\\frac{149}{1000}, \\frac{851}{1000})\n",
    "\\end{align}\n",
    "그러므로 $H_{0}$이 사실일 경우 각 성별간의 기대도수는 다음과 같다.\n",
    "\\begin{align}\n",
    "    &E_{11} = 541\\cdot \\frac{149}{1000} = 80.61,\\quad E_{12} = 541 \\cdot \\frac{851}{1000} = 460.39,\\\\\n",
    "    &E_{21} = 459\\cdot \\frac{149}{1000} = 68.391, \\quad E_{12} = 459 \\cdot \\frac{851}{1000} = 390.61\n",
    "\\end{align}"
   ]
  },
  {
   "cell_type": "code",
   "execution_count": 79,
   "metadata": {
    "colab": {
     "base_uri": "https://localhost:8080/"
    },
    "executionInfo": {
     "elapsed": 727,
     "status": "ok",
     "timestamp": 1678860732349,
     "user": {
      "displayName": "GyeongJun Byeon",
      "userId": "15563492176804444918"
     },
     "user_tz": -540
    },
    "id": "SkuLsg1txrHR",
    "outputId": "f4ac5d55-e265-43df-8f09-2dfb96145a71"
   },
   "outputs": [
    {
     "name": "stdout",
     "output_type": "stream",
     "text": [
      "---------------------------------result---------------------------------\n",
      "Independence test Chi-Square score : 106.4379\n",
      "Independence test Chi-Square p_value : 0.0000\n",
      "Degree of freedom : 1\n",
      "Expected frequency : \n",
      "[[ 80.609 460.391]\n",
      " [ 68.391 390.609]]\n"
     ]
    }
   ],
   "source": [
    "# 독립성 검정을 위해 chi2_contingency를 불러온다.\n",
    "chi2_stat, chi2_p, free, expected_freq = stats.chi2_contingency(X)\n",
    "print('---------------------------------result---------------------------------')\n",
    "print('Independence test Chi-Square score : {:.4f}'.format(chi2_stat))\n",
    "print('Independence test Chi-Square p_value : {:.4f}'.format(chi2_p))\n",
    "print('Degree of freedom : {:}'.format(free))\n",
    "print('Expected frequency : \\n{:}'.format(expected_freq))"
   ]
  },
  {
   "cell_type": "markdown",
   "metadata": {
    "id": "idMuHELLkBB6"
   },
   "source": [
    "카이제곱 검증의 p_value가 0.01 이하(유의수준 99%)이므로 귀무가설을 기각한다. 즉, 클레임 접수 여부는 성별과 상관이 있다. 따라서 성별에 따라 다른 방식의 고객서비스를 제공하여 클레임 접수를 줄여야한다."
   ]
  },
  {
   "cell_type": "markdown",
   "metadata": {
    "id": "r425TU6kmBTF"
   },
   "source": [
    "#### 동질성 검정 (Test of Homogeneity)\n",
    "\n",
    "(1) 개념\n",
    "\n",
    "* 동질성 검정: 서로 다른 모집단에서 추출된 표본들의 범주별 비율이 서로 동질적인지 검정하는 통계 기법이다. 분석 방법은 독립성 검정과 동일하게 카이제곱 검정을 이용하나, 하나의 표본이 아닌 서로 다른 표본에서 공통된 범주형 변수의 비율이 같은지 확인한다.\n",
    "\n",
    "(2) 예시\n",
    "\n",
    "* A쇼핑은 구매유형 4가지 비율이 청년층 그룹과 중장년층 그룹에 따라 동질적인지 검토하여 연령별 마케팅에 사용하고자 한다.\n",
    "* 서로 다른 모집단 = (청년층 그룹) (중장년층 그룹)\n",
    "* 이때 아래 표의 구분이 1$\\sim$5인 경우 청년층, 6$\\sim$9를 중장년층으로 정의한다.\n",
    "\n",
    "| 고객 나이대 | 구분 |\n",
    "|-------------|------|\n",
    "| 19세 이하   | 1    |\n",
    "| 20~24세     | 2    |\n",
    "| 25~29세     | 3    |\n",
    "| 30~34세     | 4    |\n",
    "| 35~39세     | 5    |\n",
    "| 40~44세     | 6    |\n",
    "| 45~49세     | 7    |\n",
    "| 50~54세     | 8    |\n",
    "| 55세 이상   | 9    |\n",
    "\n",
    "\\begin{align}\n",
    "    H_{0}(\\text{귀무가설}) &= \\text{청년층과 중장년층의 구매 유형 비율은 동일하다.}\\\\\n",
    "    H_{1}(\\text{연구가설}) &= \\text{청년층과 중장년층의 구매 유형 비율은 동일하지 않다.} \n",
    "\\end{align}\n",
    "<br/>\n"
   ]
  },
  {
   "cell_type": "code",
   "execution_count": 112,
   "metadata": {
    "colab": {
     "base_uri": "https://localhost:8080/"
    },
    "executionInfo": {
     "elapsed": 5,
     "status": "ok",
     "timestamp": 1678865772351,
     "user": {
      "displayName": "GyeongJun Byeon",
      "userId": "15563492176804444918"
     },
     "user_tz": -540
    },
    "id": "hF2HNwj92fLL",
    "outputId": "c91b3c48-96f6-43b6-cd79-82981ab6f9ba"
   },
   "outputs": [
    {
     "name": "stderr",
     "output_type": "stream",
     "text": [
      "<ipython-input-112-b28df92ead26>:4: SettingWithCopyWarning: \n",
      "A value is trying to be set on a copy of a slice from a DataFrame\n",
      "\n",
      "See the caveats in the documentation: https://pandas.pydata.org/pandas-docs/stable/user_guide/indexing.html#returning-a-view-versus-a-copy\n",
      "  df.고객연령대[df.고객_나이대 == i] = \"1\"\n",
      "<ipython-input-112-b28df92ead26>:6: SettingWithCopyWarning: \n",
      "A value is trying to be set on a copy of a slice from a DataFrame\n",
      "\n",
      "See the caveats in the documentation: https://pandas.pydata.org/pandas-docs/stable/user_guide/indexing.html#returning-a-view-versus-a-copy\n",
      "  df.고객연령대[df.고객_나이대 == i] = \"2\"\n"
     ]
    }
   ],
   "source": [
    "df['고객연령대'] = \"\"\n",
    "for i in range(1,1+df.고객_나이대.nunique()):    \n",
    "    if i <= 5:\n",
    "        df.고객연령대[df.고객_나이대 == i] = \"1\"\n",
    "    else:\n",
    "        df.고객연령대[df.고객_나이대 == i] = \"2\""
   ]
  },
  {
   "cell_type": "code",
   "execution_count": 137,
   "metadata": {
    "colab": {
     "base_uri": "https://localhost:8080/",
     "height": 143
    },
    "executionInfo": {
     "elapsed": 990,
     "status": "ok",
     "timestamp": 1678865960861,
     "user": {
      "displayName": "GyeongJun Byeon",
      "userId": "15563492176804444918"
     },
     "user_tz": -540
    },
    "id": "TwttdBcf3RH1",
    "outputId": "bfc2b4ec-1fc5-4800-c8c4-9bdedd9cf27d"
   },
   "outputs": [
    {
     "data": {
      "text/html": [
       "\n",
       "  <div id=\"df-ce85c77d-a37b-43c2-95d9-1d7cd20af55c\">\n",
       "    <div class=\"colab-df-container\">\n",
       "      <div>\n",
       "<style scoped>\n",
       "    .dataframe tbody tr th:only-of-type {\n",
       "        vertical-align: middle;\n",
       "    }\n",
       "\n",
       "    .dataframe tbody tr th {\n",
       "        vertical-align: top;\n",
       "    }\n",
       "\n",
       "    .dataframe thead th {\n",
       "        text-align: right;\n",
       "    }\n",
       "</style>\n",
       "<table border=\"1\" class=\"dataframe\">\n",
       "  <thead>\n",
       "    <tr style=\"text-align: right;\">\n",
       "      <th>구매유형</th>\n",
       "      <th>1</th>\n",
       "      <th>2</th>\n",
       "      <th>3</th>\n",
       "      <th>4</th>\n",
       "    </tr>\n",
       "    <tr>\n",
       "      <th>고객연령대</th>\n",
       "      <th></th>\n",
       "      <th></th>\n",
       "      <th></th>\n",
       "      <th></th>\n",
       "    </tr>\n",
       "  </thead>\n",
       "  <tbody>\n",
       "    <tr>\n",
       "      <th>1</th>\n",
       "      <td>10</td>\n",
       "      <td>67</td>\n",
       "      <td>18</td>\n",
       "      <td>105</td>\n",
       "    </tr>\n",
       "    <tr>\n",
       "      <th>2</th>\n",
       "      <td>8</td>\n",
       "      <td>65</td>\n",
       "      <td>38</td>\n",
       "      <td>89</td>\n",
       "    </tr>\n",
       "  </tbody>\n",
       "</table>\n",
       "</div>\n",
       "      <button class=\"colab-df-convert\" onclick=\"convertToInteractive('df-ce85c77d-a37b-43c2-95d9-1d7cd20af55c')\"\n",
       "              title=\"Convert this dataframe to an interactive table.\"\n",
       "              style=\"display:none;\">\n",
       "        \n",
       "  <svg xmlns=\"http://www.w3.org/2000/svg\" height=\"24px\"viewBox=\"0 0 24 24\"\n",
       "       width=\"24px\">\n",
       "    <path d=\"M0 0h24v24H0V0z\" fill=\"none\"/>\n",
       "    <path d=\"M18.56 5.44l.94 2.06.94-2.06 2.06-.94-2.06-.94-.94-2.06-.94 2.06-2.06.94zm-11 1L8.5 8.5l.94-2.06 2.06-.94-2.06-.94L8.5 2.5l-.94 2.06-2.06.94zm10 10l.94 2.06.94-2.06 2.06-.94-2.06-.94-.94-2.06-.94 2.06-2.06.94z\"/><path d=\"M17.41 7.96l-1.37-1.37c-.4-.4-.92-.59-1.43-.59-.52 0-1.04.2-1.43.59L10.3 9.45l-7.72 7.72c-.78.78-.78 2.05 0 2.83L4 21.41c.39.39.9.59 1.41.59.51 0 1.02-.2 1.41-.59l7.78-7.78 2.81-2.81c.8-.78.8-2.07 0-2.86zM5.41 20L4 18.59l7.72-7.72 1.47 1.35L5.41 20z\"/>\n",
       "  </svg>\n",
       "      </button>\n",
       "      \n",
       "  <style>\n",
       "    .colab-df-container {\n",
       "      display:flex;\n",
       "      flex-wrap:wrap;\n",
       "      gap: 12px;\n",
       "    }\n",
       "\n",
       "    .colab-df-convert {\n",
       "      background-color: #E8F0FE;\n",
       "      border: none;\n",
       "      border-radius: 50%;\n",
       "      cursor: pointer;\n",
       "      display: none;\n",
       "      fill: #1967D2;\n",
       "      height: 32px;\n",
       "      padding: 0 0 0 0;\n",
       "      width: 32px;\n",
       "    }\n",
       "\n",
       "    .colab-df-convert:hover {\n",
       "      background-color: #E2EBFA;\n",
       "      box-shadow: 0px 1px 2px rgba(60, 64, 67, 0.3), 0px 1px 3px 1px rgba(60, 64, 67, 0.15);\n",
       "      fill: #174EA6;\n",
       "    }\n",
       "\n",
       "    [theme=dark] .colab-df-convert {\n",
       "      background-color: #3B4455;\n",
       "      fill: #D2E3FC;\n",
       "    }\n",
       "\n",
       "    [theme=dark] .colab-df-convert:hover {\n",
       "      background-color: #434B5C;\n",
       "      box-shadow: 0px 1px 3px 1px rgba(0, 0, 0, 0.15);\n",
       "      filter: drop-shadow(0px 1px 2px rgba(0, 0, 0, 0.3));\n",
       "      fill: #FFFFFF;\n",
       "    }\n",
       "  </style>\n",
       "\n",
       "      <script>\n",
       "        const buttonEl =\n",
       "          document.querySelector('#df-ce85c77d-a37b-43c2-95d9-1d7cd20af55c button.colab-df-convert');\n",
       "        buttonEl.style.display =\n",
       "          google.colab.kernel.accessAllowed ? 'block' : 'none';\n",
       "\n",
       "        async function convertToInteractive(key) {\n",
       "          const element = document.querySelector('#df-ce85c77d-a37b-43c2-95d9-1d7cd20af55c');\n",
       "          const dataTable =\n",
       "            await google.colab.kernel.invokeFunction('convertToInteractive',\n",
       "                                                     [key], {});\n",
       "          if (!dataTable) return;\n",
       "\n",
       "          const docLinkHtml = 'Like what you see? Visit the ' +\n",
       "            '<a target=\"_blank\" href=https://colab.research.google.com/notebooks/data_table.ipynb>data table notebook</a>'\n",
       "            + ' to learn more about interactive tables.';\n",
       "          element.innerHTML = '';\n",
       "          dataTable['output_type'] = 'display_data';\n",
       "          await google.colab.output.renderOutput(dataTable, element);\n",
       "          const docLink = document.createElement('div');\n",
       "          docLink.innerHTML = docLinkHtml;\n",
       "          element.appendChild(docLink);\n",
       "        }\n",
       "      </script>\n",
       "    </div>\n",
       "  </div>\n",
       "  "
      ],
      "text/plain": [
       "구매유형    1   2   3    4\n",
       "고객연령대                 \n",
       "1      10  67  18  105\n",
       "2       8  65  38   89"
      ]
     },
     "execution_count": 137,
     "metadata": {},
     "output_type": "execute_result"
    }
   ],
   "source": [
    "df1 = df.loc[df.고객연령대 == '1']\n",
    "df2 = df.loc[df.고객연령대 == '2']\n",
    "\n",
    "#랜덤 표본 추출\n",
    "df1_sam = df1.sample(200, random_state = 29)\n",
    "df2_sam = df2.sample(200, random_state = 29)\n",
    "\n",
    "df3 = pd.concat([df1_sam, df2_sam], axis = 0)\n",
    "X = pd.crosstab(df3.고객연령대, df3.구매유형, margins = False)\n",
    "X"
   ]
  },
  {
   "cell_type": "code",
   "execution_count": 138,
   "metadata": {
    "colab": {
     "base_uri": "https://localhost:8080/"
    },
    "executionInfo": {
     "elapsed": 829,
     "status": "ok",
     "timestamp": 1678865962745,
     "user": {
      "displayName": "GyeongJun Byeon",
      "userId": "15563492176804444918"
     },
     "user_tz": -540
    },
    "id": "M8zPEnpj5GaH",
    "outputId": "75987959-5979-4a55-850e-7c01ddd5ded9"
   },
   "outputs": [
    {
     "name": "stdout",
     "output_type": "stream",
     "text": [
      "---------------------------------result---------------------------------\n",
      "Homogeneity test Chi-Square score : 8.7150\n",
      "Homogeneity test Chi-Square p_value : 0.0333\n",
      "Degree of freedom : 3\n",
      "Expected frequency : \n",
      "[[ 9. 66. 28. 97.]\n",
      " [ 9. 66. 28. 97.]]\n"
     ]
    }
   ],
   "source": [
    "# 동질성 검정을 위해 chi2_contingency를 불러온다.\n",
    "chi2_stat, chi2_p, free, expected_freq = stats.chi2_contingency(X)\n",
    "print('---------------------------------result---------------------------------')\n",
    "print('Homogeneity test Chi-Square score : {:.4f}'.format(chi2_stat))\n",
    "print('Homogeneity test Chi-Square p_value : {:.4f}'.format(chi2_p))\n",
    "print('Degree of freedom : {:}'.format(free))\n",
    "print('Expected frequency : \\n{:}'.format(expected_freq))"
   ]
  },
  {
   "cell_type": "markdown",
   "metadata": {
    "id": "8ma6DogV6r-G"
   },
   "source": [
    "유의수준 5%로 검정한다고 가정하면 p_value 값이 약 0.03이므로 귀무가설이 기각된다. 즉, 청년층과 중장년층의 구매 유형 비율은 상의하다는 것을 알 수 있다. 실제 비율을 계산하면,"
   ]
  },
  {
   "cell_type": "code",
   "execution_count": 139,
   "metadata": {
    "executionInfo": {
     "elapsed": 574,
     "status": "ok",
     "timestamp": 1678865964857,
     "user": {
      "displayName": "GyeongJun Byeon",
      "userId": "15563492176804444918"
     },
     "user_tz": -540
    },
    "id": "S22nmWPQ7Gzy"
   },
   "outputs": [],
   "source": [
    "X.columns = ['1회성','실용적','명품','집중']\n",
    "X.index = ['청년층','중장년층']"
   ]
  },
  {
   "cell_type": "code",
   "execution_count": 140,
   "metadata": {
    "colab": {
     "base_uri": "https://localhost:8080/",
     "height": 112
    },
    "executionInfo": {
     "elapsed": 363,
     "status": "ok",
     "timestamp": 1678865967218,
     "user": {
      "displayName": "GyeongJun Byeon",
      "userId": "15563492176804444918"
     },
     "user_tz": -540
    },
    "id": "_Nlgv-No7lBA",
    "outputId": "234c4c90-8f63-4ab7-8d53-99e14e629760"
   },
   "outputs": [
    {
     "data": {
      "text/html": [
       "\n",
       "  <div id=\"df-1d229c8f-3f1f-4085-8236-731318c14877\">\n",
       "    <div class=\"colab-df-container\">\n",
       "      <div>\n",
       "<style scoped>\n",
       "    .dataframe tbody tr th:only-of-type {\n",
       "        vertical-align: middle;\n",
       "    }\n",
       "\n",
       "    .dataframe tbody tr th {\n",
       "        vertical-align: top;\n",
       "    }\n",
       "\n",
       "    .dataframe thead th {\n",
       "        text-align: right;\n",
       "    }\n",
       "</style>\n",
       "<table border=\"1\" class=\"dataframe\">\n",
       "  <thead>\n",
       "    <tr style=\"text-align: right;\">\n",
       "      <th></th>\n",
       "      <th>1회성</th>\n",
       "      <th>실용적</th>\n",
       "      <th>명품</th>\n",
       "      <th>집중</th>\n",
       "    </tr>\n",
       "  </thead>\n",
       "  <tbody>\n",
       "    <tr>\n",
       "      <th>청년층</th>\n",
       "      <td>0.05</td>\n",
       "      <td>0.335</td>\n",
       "      <td>0.09</td>\n",
       "      <td>0.525</td>\n",
       "    </tr>\n",
       "    <tr>\n",
       "      <th>중장년층</th>\n",
       "      <td>0.04</td>\n",
       "      <td>0.325</td>\n",
       "      <td>0.19</td>\n",
       "      <td>0.445</td>\n",
       "    </tr>\n",
       "  </tbody>\n",
       "</table>\n",
       "</div>\n",
       "      <button class=\"colab-df-convert\" onclick=\"convertToInteractive('df-1d229c8f-3f1f-4085-8236-731318c14877')\"\n",
       "              title=\"Convert this dataframe to an interactive table.\"\n",
       "              style=\"display:none;\">\n",
       "        \n",
       "  <svg xmlns=\"http://www.w3.org/2000/svg\" height=\"24px\"viewBox=\"0 0 24 24\"\n",
       "       width=\"24px\">\n",
       "    <path d=\"M0 0h24v24H0V0z\" fill=\"none\"/>\n",
       "    <path d=\"M18.56 5.44l.94 2.06.94-2.06 2.06-.94-2.06-.94-.94-2.06-.94 2.06-2.06.94zm-11 1L8.5 8.5l.94-2.06 2.06-.94-2.06-.94L8.5 2.5l-.94 2.06-2.06.94zm10 10l.94 2.06.94-2.06 2.06-.94-2.06-.94-.94-2.06-.94 2.06-2.06.94z\"/><path d=\"M17.41 7.96l-1.37-1.37c-.4-.4-.92-.59-1.43-.59-.52 0-1.04.2-1.43.59L10.3 9.45l-7.72 7.72c-.78.78-.78 2.05 0 2.83L4 21.41c.39.39.9.59 1.41.59.51 0 1.02-.2 1.41-.59l7.78-7.78 2.81-2.81c.8-.78.8-2.07 0-2.86zM5.41 20L4 18.59l7.72-7.72 1.47 1.35L5.41 20z\"/>\n",
       "  </svg>\n",
       "      </button>\n",
       "      \n",
       "  <style>\n",
       "    .colab-df-container {\n",
       "      display:flex;\n",
       "      flex-wrap:wrap;\n",
       "      gap: 12px;\n",
       "    }\n",
       "\n",
       "    .colab-df-convert {\n",
       "      background-color: #E8F0FE;\n",
       "      border: none;\n",
       "      border-radius: 50%;\n",
       "      cursor: pointer;\n",
       "      display: none;\n",
       "      fill: #1967D2;\n",
       "      height: 32px;\n",
       "      padding: 0 0 0 0;\n",
       "      width: 32px;\n",
       "    }\n",
       "\n",
       "    .colab-df-convert:hover {\n",
       "      background-color: #E2EBFA;\n",
       "      box-shadow: 0px 1px 2px rgba(60, 64, 67, 0.3), 0px 1px 3px 1px rgba(60, 64, 67, 0.15);\n",
       "      fill: #174EA6;\n",
       "    }\n",
       "\n",
       "    [theme=dark] .colab-df-convert {\n",
       "      background-color: #3B4455;\n",
       "      fill: #D2E3FC;\n",
       "    }\n",
       "\n",
       "    [theme=dark] .colab-df-convert:hover {\n",
       "      background-color: #434B5C;\n",
       "      box-shadow: 0px 1px 3px 1px rgba(0, 0, 0, 0.15);\n",
       "      filter: drop-shadow(0px 1px 2px rgba(0, 0, 0, 0.3));\n",
       "      fill: #FFFFFF;\n",
       "    }\n",
       "  </style>\n",
       "\n",
       "      <script>\n",
       "        const buttonEl =\n",
       "          document.querySelector('#df-1d229c8f-3f1f-4085-8236-731318c14877 button.colab-df-convert');\n",
       "        buttonEl.style.display =\n",
       "          google.colab.kernel.accessAllowed ? 'block' : 'none';\n",
       "\n",
       "        async function convertToInteractive(key) {\n",
       "          const element = document.querySelector('#df-1d229c8f-3f1f-4085-8236-731318c14877');\n",
       "          const dataTable =\n",
       "            await google.colab.kernel.invokeFunction('convertToInteractive',\n",
       "                                                     [key], {});\n",
       "          if (!dataTable) return;\n",
       "\n",
       "          const docLinkHtml = 'Like what you see? Visit the ' +\n",
       "            '<a target=\"_blank\" href=https://colab.research.google.com/notebooks/data_table.ipynb>data table notebook</a>'\n",
       "            + ' to learn more about interactive tables.';\n",
       "          element.innerHTML = '';\n",
       "          dataTable['output_type'] = 'display_data';\n",
       "          await google.colab.output.renderOutput(dataTable, element);\n",
       "          const docLink = document.createElement('div');\n",
       "          docLink.innerHTML = docLinkHtml;\n",
       "          element.appendChild(docLink);\n",
       "        }\n",
       "      </script>\n",
       "    </div>\n",
       "  </div>\n",
       "  "
      ],
      "text/plain": [
       "       1회성    실용적    명품     집중\n",
       "청년층   0.05  0.335  0.09  0.525\n",
       "중장년층  0.04  0.325  0.19  0.445"
      ]
     },
     "execution_count": 140,
     "metadata": {},
     "output_type": "execute_result"
    }
   ],
   "source": [
    "X['tot'] = X.copy().sum(axis='columns')\n",
    "X = X/X['tot'][1]\n",
    "X = X.drop(labels = 'tot', axis = 1)\n",
    "X"
   ]
  },
  {
   "cell_type": "markdown",
   "metadata": {
    "id": "uBNMFt6rNVcL"
   },
   "source": [
    "위에 계산된 비율과 같이 청년층은 실용적, 집중 구매형의 비율이 높았고, 중장년층은 청년층과 큰 차이는 없지만 명품 구매형에서 차이가 부각되는 것을 볼 수 있다."
   ]
  }
 ],
 "metadata": {
  "colab": {
   "authorship_tag": "ABX9TyMXV2WcL4c5aJD27hi9AfFd",
   "provenance": []
  },
  "kernelspec": {
   "display_name": "Python 3 (ipykernel)",
   "language": "python",
   "name": "python3"
  },
  "language_info": {
   "codemirror_mode": {
    "name": "ipython",
    "version": 3
   },
   "file_extension": ".py",
   "mimetype": "text/x-python",
   "name": "python",
   "nbconvert_exporter": "python",
   "pygments_lexer": "ipython3",
   "version": "3.9.13"
  }
 },
 "nbformat": 4,
 "nbformat_minor": 1
}
